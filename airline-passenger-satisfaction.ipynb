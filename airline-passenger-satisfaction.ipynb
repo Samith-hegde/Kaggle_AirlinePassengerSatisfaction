{
 "cells": [
  {
   "cell_type": "code",
   "execution_count": 1,
   "id": "9d5a9b5c",
   "metadata": {
    "_cell_guid": "b1076dfc-b9ad-4769-8c92-a6c4dae69d19",
    "_uuid": "8f2839f25d086af736a60e9eeb907d3b93b6e0e5",
    "execution": {
     "iopub.execute_input": "2023-01-31T09:49:27.822023Z",
     "iopub.status.busy": "2023-01-31T09:49:27.820945Z",
     "iopub.status.idle": "2023-01-31T09:49:27.858735Z",
     "shell.execute_reply": "2023-01-31T09:49:27.856568Z"
    },
    "papermill": {
     "duration": 0.06797,
     "end_time": "2023-01-31T09:49:27.862621",
     "exception": false,
     "start_time": "2023-01-31T09:49:27.794651",
     "status": "completed"
    },
    "tags": []
   },
   "outputs": [
    {
     "name": "stdout",
     "output_type": "stream",
     "text": [
      "/kaggle/input/airline-passenger-satisfaction/train.csv\n",
      "/kaggle/input/airline-passenger-satisfaction/test.csv\n"
     ]
    }
   ],
   "source": [
    "# This Python 3 environment comes with many helpful analytics libraries installed\n",
    "# It is defined by the kaggle/python Docker image: https://github.com/kaggle/docker-python\n",
    "# For example, here's several helpful packages to load\n",
    "\n",
    "import numpy as np # linear algebra\n",
    "import pandas as pd # data processing, CSV file I/O (e.g. pd.read_csv)\n",
    "\n",
    "# Input data files are available in the read-only \"../input/\" directory\n",
    "# For example, running this (by clicking run or pressing Shift+Enter) will list all files under the input directory\n",
    "\n",
    "import os\n",
    "for dirname, _, filenames in os.walk('/kaggle/input'):\n",
    "    for filename in filenames:\n",
    "        print(os.path.join(dirname, filename))\n",
    "\n",
    "# You can write up to 20GB to the current directory (/kaggle/working/) that gets preserved as output when you create a version using \"Save & Run All\" \n",
    "# You can also write temporary files to /kaggle/temp/, but they won't be saved outside of the current session"
   ]
  },
  {
   "cell_type": "code",
   "execution_count": 2,
   "id": "5ea53646",
   "metadata": {
    "execution": {
     "iopub.execute_input": "2023-01-31T09:49:27.908914Z",
     "iopub.status.busy": "2023-01-31T09:49:27.908515Z",
     "iopub.status.idle": "2023-01-31T09:49:29.111822Z",
     "shell.execute_reply": "2023-01-31T09:49:29.110377Z"
    },
    "papermill": {
     "duration": 1.225651,
     "end_time": "2023-01-31T09:49:29.114844",
     "exception": false,
     "start_time": "2023-01-31T09:49:27.889193",
     "status": "completed"
    },
    "tags": []
   },
   "outputs": [],
   "source": [
    "import matplotlib.pyplot as plt\n",
    "import sklearn \n",
    "import seaborn as sns"
   ]
  },
  {
   "cell_type": "code",
   "execution_count": 3,
   "id": "b6862c69",
   "metadata": {
    "execution": {
     "iopub.execute_input": "2023-01-31T09:49:29.153249Z",
     "iopub.status.busy": "2023-01-31T09:49:29.152851Z",
     "iopub.status.idle": "2023-01-31T09:49:29.637096Z",
     "shell.execute_reply": "2023-01-31T09:49:29.635822Z"
    },
    "papermill": {
     "duration": 0.505945,
     "end_time": "2023-01-31T09:49:29.639799",
     "exception": false,
     "start_time": "2023-01-31T09:49:29.133854",
     "status": "completed"
    },
    "tags": []
   },
   "outputs": [],
   "source": [
    "train_1 = pd.read_csv(\"/kaggle/input/airline-passenger-satisfaction/train.csv\")"
   ]
  },
  {
   "cell_type": "code",
   "execution_count": 4,
   "id": "b39c7b1b",
   "metadata": {
    "execution": {
     "iopub.execute_input": "2023-01-31T09:49:29.677010Z",
     "iopub.status.busy": "2023-01-31T09:49:29.676619Z",
     "iopub.status.idle": "2023-01-31T09:49:29.710081Z",
     "shell.execute_reply": "2023-01-31T09:49:29.709025Z"
    },
    "papermill": {
     "duration": 0.054665,
     "end_time": "2023-01-31T09:49:29.712602",
     "exception": false,
     "start_time": "2023-01-31T09:49:29.657937",
     "status": "completed"
    },
    "tags": []
   },
   "outputs": [
    {
     "data": {
      "text/html": [
       "<div>\n",
       "<style scoped>\n",
       "    .dataframe tbody tr th:only-of-type {\n",
       "        vertical-align: middle;\n",
       "    }\n",
       "\n",
       "    .dataframe tbody tr th {\n",
       "        vertical-align: top;\n",
       "    }\n",
       "\n",
       "    .dataframe thead th {\n",
       "        text-align: right;\n",
       "    }\n",
       "</style>\n",
       "<table border=\"1\" class=\"dataframe\">\n",
       "  <thead>\n",
       "    <tr style=\"text-align: right;\">\n",
       "      <th></th>\n",
       "      <th>Unnamed: 0</th>\n",
       "      <th>id</th>\n",
       "      <th>Gender</th>\n",
       "      <th>Customer Type</th>\n",
       "      <th>Age</th>\n",
       "      <th>Type of Travel</th>\n",
       "      <th>Class</th>\n",
       "      <th>Flight Distance</th>\n",
       "      <th>Inflight wifi service</th>\n",
       "      <th>Departure/Arrival time convenient</th>\n",
       "      <th>...</th>\n",
       "      <th>Inflight entertainment</th>\n",
       "      <th>On-board service</th>\n",
       "      <th>Leg room service</th>\n",
       "      <th>Baggage handling</th>\n",
       "      <th>Checkin service</th>\n",
       "      <th>Inflight service</th>\n",
       "      <th>Cleanliness</th>\n",
       "      <th>Departure Delay in Minutes</th>\n",
       "      <th>Arrival Delay in Minutes</th>\n",
       "      <th>satisfaction</th>\n",
       "    </tr>\n",
       "  </thead>\n",
       "  <tbody>\n",
       "    <tr>\n",
       "      <th>0</th>\n",
       "      <td>0</td>\n",
       "      <td>70172</td>\n",
       "      <td>Male</td>\n",
       "      <td>Loyal Customer</td>\n",
       "      <td>13</td>\n",
       "      <td>Personal Travel</td>\n",
       "      <td>Eco Plus</td>\n",
       "      <td>460</td>\n",
       "      <td>3</td>\n",
       "      <td>4</td>\n",
       "      <td>...</td>\n",
       "      <td>5</td>\n",
       "      <td>4</td>\n",
       "      <td>3</td>\n",
       "      <td>4</td>\n",
       "      <td>4</td>\n",
       "      <td>5</td>\n",
       "      <td>5</td>\n",
       "      <td>25</td>\n",
       "      <td>18.0</td>\n",
       "      <td>neutral or dissatisfied</td>\n",
       "    </tr>\n",
       "    <tr>\n",
       "      <th>1</th>\n",
       "      <td>1</td>\n",
       "      <td>5047</td>\n",
       "      <td>Male</td>\n",
       "      <td>disloyal Customer</td>\n",
       "      <td>25</td>\n",
       "      <td>Business travel</td>\n",
       "      <td>Business</td>\n",
       "      <td>235</td>\n",
       "      <td>3</td>\n",
       "      <td>2</td>\n",
       "      <td>...</td>\n",
       "      <td>1</td>\n",
       "      <td>1</td>\n",
       "      <td>5</td>\n",
       "      <td>3</td>\n",
       "      <td>1</td>\n",
       "      <td>4</td>\n",
       "      <td>1</td>\n",
       "      <td>1</td>\n",
       "      <td>6.0</td>\n",
       "      <td>neutral or dissatisfied</td>\n",
       "    </tr>\n",
       "    <tr>\n",
       "      <th>2</th>\n",
       "      <td>2</td>\n",
       "      <td>110028</td>\n",
       "      <td>Female</td>\n",
       "      <td>Loyal Customer</td>\n",
       "      <td>26</td>\n",
       "      <td>Business travel</td>\n",
       "      <td>Business</td>\n",
       "      <td>1142</td>\n",
       "      <td>2</td>\n",
       "      <td>2</td>\n",
       "      <td>...</td>\n",
       "      <td>5</td>\n",
       "      <td>4</td>\n",
       "      <td>3</td>\n",
       "      <td>4</td>\n",
       "      <td>4</td>\n",
       "      <td>4</td>\n",
       "      <td>5</td>\n",
       "      <td>0</td>\n",
       "      <td>0.0</td>\n",
       "      <td>satisfied</td>\n",
       "    </tr>\n",
       "    <tr>\n",
       "      <th>3</th>\n",
       "      <td>3</td>\n",
       "      <td>24026</td>\n",
       "      <td>Female</td>\n",
       "      <td>Loyal Customer</td>\n",
       "      <td>25</td>\n",
       "      <td>Business travel</td>\n",
       "      <td>Business</td>\n",
       "      <td>562</td>\n",
       "      <td>2</td>\n",
       "      <td>5</td>\n",
       "      <td>...</td>\n",
       "      <td>2</td>\n",
       "      <td>2</td>\n",
       "      <td>5</td>\n",
       "      <td>3</td>\n",
       "      <td>1</td>\n",
       "      <td>4</td>\n",
       "      <td>2</td>\n",
       "      <td>11</td>\n",
       "      <td>9.0</td>\n",
       "      <td>neutral or dissatisfied</td>\n",
       "    </tr>\n",
       "    <tr>\n",
       "      <th>4</th>\n",
       "      <td>4</td>\n",
       "      <td>119299</td>\n",
       "      <td>Male</td>\n",
       "      <td>Loyal Customer</td>\n",
       "      <td>61</td>\n",
       "      <td>Business travel</td>\n",
       "      <td>Business</td>\n",
       "      <td>214</td>\n",
       "      <td>3</td>\n",
       "      <td>3</td>\n",
       "      <td>...</td>\n",
       "      <td>3</td>\n",
       "      <td>3</td>\n",
       "      <td>4</td>\n",
       "      <td>4</td>\n",
       "      <td>3</td>\n",
       "      <td>3</td>\n",
       "      <td>3</td>\n",
       "      <td>0</td>\n",
       "      <td>0.0</td>\n",
       "      <td>satisfied</td>\n",
       "    </tr>\n",
       "  </tbody>\n",
       "</table>\n",
       "<p>5 rows × 25 columns</p>\n",
       "</div>"
      ],
      "text/plain": [
       "   Unnamed: 0      id  Gender      Customer Type  Age   Type of Travel  \\\n",
       "0           0   70172    Male     Loyal Customer   13  Personal Travel   \n",
       "1           1    5047    Male  disloyal Customer   25  Business travel   \n",
       "2           2  110028  Female     Loyal Customer   26  Business travel   \n",
       "3           3   24026  Female     Loyal Customer   25  Business travel   \n",
       "4           4  119299    Male     Loyal Customer   61  Business travel   \n",
       "\n",
       "      Class  Flight Distance  Inflight wifi service  \\\n",
       "0  Eco Plus              460                      3   \n",
       "1  Business              235                      3   \n",
       "2  Business             1142                      2   \n",
       "3  Business              562                      2   \n",
       "4  Business              214                      3   \n",
       "\n",
       "   Departure/Arrival time convenient  ...  Inflight entertainment  \\\n",
       "0                                  4  ...                       5   \n",
       "1                                  2  ...                       1   \n",
       "2                                  2  ...                       5   \n",
       "3                                  5  ...                       2   \n",
       "4                                  3  ...                       3   \n",
       "\n",
       "   On-board service  Leg room service  Baggage handling  Checkin service  \\\n",
       "0                 4                 3                 4                4   \n",
       "1                 1                 5                 3                1   \n",
       "2                 4                 3                 4                4   \n",
       "3                 2                 5                 3                1   \n",
       "4                 3                 4                 4                3   \n",
       "\n",
       "   Inflight service  Cleanliness  Departure Delay in Minutes  \\\n",
       "0                 5            5                          25   \n",
       "1                 4            1                           1   \n",
       "2                 4            5                           0   \n",
       "3                 4            2                          11   \n",
       "4                 3            3                           0   \n",
       "\n",
       "   Arrival Delay in Minutes             satisfaction  \n",
       "0                      18.0  neutral or dissatisfied  \n",
       "1                       6.0  neutral or dissatisfied  \n",
       "2                       0.0                satisfied  \n",
       "3                       9.0  neutral or dissatisfied  \n",
       "4                       0.0                satisfied  \n",
       "\n",
       "[5 rows x 25 columns]"
      ]
     },
     "execution_count": 4,
     "metadata": {},
     "output_type": "execute_result"
    }
   ],
   "source": [
    "train_1.head()"
   ]
  },
  {
   "cell_type": "code",
   "execution_count": 5,
   "id": "3a76704f",
   "metadata": {
    "execution": {
     "iopub.execute_input": "2023-01-31T09:49:29.750295Z",
     "iopub.status.busy": "2023-01-31T09:49:29.749533Z",
     "iopub.status.idle": "2023-01-31T09:49:29.771133Z",
     "shell.execute_reply": "2023-01-31T09:49:29.770029Z"
    },
    "papermill": {
     "duration": 0.043122,
     "end_time": "2023-01-31T09:49:29.773544",
     "exception": false,
     "start_time": "2023-01-31T09:49:29.730422",
     "status": "completed"
    },
    "tags": []
   },
   "outputs": [
    {
     "data": {
      "text/html": [
       "<div>\n",
       "<style scoped>\n",
       "    .dataframe tbody tr th:only-of-type {\n",
       "        vertical-align: middle;\n",
       "    }\n",
       "\n",
       "    .dataframe tbody tr th {\n",
       "        vertical-align: top;\n",
       "    }\n",
       "\n",
       "    .dataframe thead th {\n",
       "        text-align: right;\n",
       "    }\n",
       "</style>\n",
       "<table border=\"1\" class=\"dataframe\">\n",
       "  <thead>\n",
       "    <tr style=\"text-align: right;\">\n",
       "      <th></th>\n",
       "      <th>Unnamed: 0</th>\n",
       "      <th>id</th>\n",
       "      <th>Gender</th>\n",
       "      <th>Customer Type</th>\n",
       "      <th>Age</th>\n",
       "      <th>Type of Travel</th>\n",
       "      <th>Class</th>\n",
       "      <th>Flight Distance</th>\n",
       "      <th>Inflight wifi service</th>\n",
       "      <th>Departure/Arrival time convenient</th>\n",
       "      <th>...</th>\n",
       "      <th>Inflight entertainment</th>\n",
       "      <th>On-board service</th>\n",
       "      <th>Leg room service</th>\n",
       "      <th>Baggage handling</th>\n",
       "      <th>Checkin service</th>\n",
       "      <th>Inflight service</th>\n",
       "      <th>Cleanliness</th>\n",
       "      <th>Departure Delay in Minutes</th>\n",
       "      <th>Arrival Delay in Minutes</th>\n",
       "      <th>satisfaction</th>\n",
       "    </tr>\n",
       "  </thead>\n",
       "  <tbody>\n",
       "    <tr>\n",
       "      <th>103899</th>\n",
       "      <td>103899</td>\n",
       "      <td>94171</td>\n",
       "      <td>Female</td>\n",
       "      <td>disloyal Customer</td>\n",
       "      <td>23</td>\n",
       "      <td>Business travel</td>\n",
       "      <td>Eco</td>\n",
       "      <td>192</td>\n",
       "      <td>2</td>\n",
       "      <td>1</td>\n",
       "      <td>...</td>\n",
       "      <td>2</td>\n",
       "      <td>3</td>\n",
       "      <td>1</td>\n",
       "      <td>4</td>\n",
       "      <td>2</td>\n",
       "      <td>3</td>\n",
       "      <td>2</td>\n",
       "      <td>3</td>\n",
       "      <td>0.0</td>\n",
       "      <td>neutral or dissatisfied</td>\n",
       "    </tr>\n",
       "    <tr>\n",
       "      <th>103900</th>\n",
       "      <td>103900</td>\n",
       "      <td>73097</td>\n",
       "      <td>Male</td>\n",
       "      <td>Loyal Customer</td>\n",
       "      <td>49</td>\n",
       "      <td>Business travel</td>\n",
       "      <td>Business</td>\n",
       "      <td>2347</td>\n",
       "      <td>4</td>\n",
       "      <td>4</td>\n",
       "      <td>...</td>\n",
       "      <td>5</td>\n",
       "      <td>5</td>\n",
       "      <td>5</td>\n",
       "      <td>5</td>\n",
       "      <td>5</td>\n",
       "      <td>5</td>\n",
       "      <td>4</td>\n",
       "      <td>0</td>\n",
       "      <td>0.0</td>\n",
       "      <td>satisfied</td>\n",
       "    </tr>\n",
       "    <tr>\n",
       "      <th>103901</th>\n",
       "      <td>103901</td>\n",
       "      <td>68825</td>\n",
       "      <td>Male</td>\n",
       "      <td>disloyal Customer</td>\n",
       "      <td>30</td>\n",
       "      <td>Business travel</td>\n",
       "      <td>Business</td>\n",
       "      <td>1995</td>\n",
       "      <td>1</td>\n",
       "      <td>1</td>\n",
       "      <td>...</td>\n",
       "      <td>4</td>\n",
       "      <td>3</td>\n",
       "      <td>2</td>\n",
       "      <td>4</td>\n",
       "      <td>5</td>\n",
       "      <td>5</td>\n",
       "      <td>4</td>\n",
       "      <td>7</td>\n",
       "      <td>14.0</td>\n",
       "      <td>neutral or dissatisfied</td>\n",
       "    </tr>\n",
       "    <tr>\n",
       "      <th>103902</th>\n",
       "      <td>103902</td>\n",
       "      <td>54173</td>\n",
       "      <td>Female</td>\n",
       "      <td>disloyal Customer</td>\n",
       "      <td>22</td>\n",
       "      <td>Business travel</td>\n",
       "      <td>Eco</td>\n",
       "      <td>1000</td>\n",
       "      <td>1</td>\n",
       "      <td>1</td>\n",
       "      <td>...</td>\n",
       "      <td>1</td>\n",
       "      <td>4</td>\n",
       "      <td>5</td>\n",
       "      <td>1</td>\n",
       "      <td>5</td>\n",
       "      <td>4</td>\n",
       "      <td>1</td>\n",
       "      <td>0</td>\n",
       "      <td>0.0</td>\n",
       "      <td>neutral or dissatisfied</td>\n",
       "    </tr>\n",
       "    <tr>\n",
       "      <th>103903</th>\n",
       "      <td>103903</td>\n",
       "      <td>62567</td>\n",
       "      <td>Male</td>\n",
       "      <td>Loyal Customer</td>\n",
       "      <td>27</td>\n",
       "      <td>Business travel</td>\n",
       "      <td>Business</td>\n",
       "      <td>1723</td>\n",
       "      <td>1</td>\n",
       "      <td>3</td>\n",
       "      <td>...</td>\n",
       "      <td>1</td>\n",
       "      <td>1</td>\n",
       "      <td>1</td>\n",
       "      <td>4</td>\n",
       "      <td>4</td>\n",
       "      <td>3</td>\n",
       "      <td>1</td>\n",
       "      <td>0</td>\n",
       "      <td>0.0</td>\n",
       "      <td>neutral or dissatisfied</td>\n",
       "    </tr>\n",
       "  </tbody>\n",
       "</table>\n",
       "<p>5 rows × 25 columns</p>\n",
       "</div>"
      ],
      "text/plain": [
       "        Unnamed: 0     id  Gender      Customer Type  Age   Type of Travel  \\\n",
       "103899      103899  94171  Female  disloyal Customer   23  Business travel   \n",
       "103900      103900  73097    Male     Loyal Customer   49  Business travel   \n",
       "103901      103901  68825    Male  disloyal Customer   30  Business travel   \n",
       "103902      103902  54173  Female  disloyal Customer   22  Business travel   \n",
       "103903      103903  62567    Male     Loyal Customer   27  Business travel   \n",
       "\n",
       "           Class  Flight Distance  Inflight wifi service  \\\n",
       "103899       Eco              192                      2   \n",
       "103900  Business             2347                      4   \n",
       "103901  Business             1995                      1   \n",
       "103902       Eco             1000                      1   \n",
       "103903  Business             1723                      1   \n",
       "\n",
       "        Departure/Arrival time convenient  ...  Inflight entertainment  \\\n",
       "103899                                  1  ...                       2   \n",
       "103900                                  4  ...                       5   \n",
       "103901                                  1  ...                       4   \n",
       "103902                                  1  ...                       1   \n",
       "103903                                  3  ...                       1   \n",
       "\n",
       "        On-board service  Leg room service  Baggage handling  Checkin service  \\\n",
       "103899                 3                 1                 4                2   \n",
       "103900                 5                 5                 5                5   \n",
       "103901                 3                 2                 4                5   \n",
       "103902                 4                 5                 1                5   \n",
       "103903                 1                 1                 4                4   \n",
       "\n",
       "        Inflight service  Cleanliness  Departure Delay in Minutes  \\\n",
       "103899                 3            2                           3   \n",
       "103900                 5            4                           0   \n",
       "103901                 5            4                           7   \n",
       "103902                 4            1                           0   \n",
       "103903                 3            1                           0   \n",
       "\n",
       "        Arrival Delay in Minutes             satisfaction  \n",
       "103899                       0.0  neutral or dissatisfied  \n",
       "103900                       0.0                satisfied  \n",
       "103901                      14.0  neutral or dissatisfied  \n",
       "103902                       0.0  neutral or dissatisfied  \n",
       "103903                       0.0  neutral or dissatisfied  \n",
       "\n",
       "[5 rows x 25 columns]"
      ]
     },
     "execution_count": 5,
     "metadata": {},
     "output_type": "execute_result"
    }
   ],
   "source": [
    "train_1.tail()"
   ]
  },
  {
   "cell_type": "code",
   "execution_count": 6,
   "id": "d5cbe6e1",
   "metadata": {
    "execution": {
     "iopub.execute_input": "2023-01-31T09:49:29.811471Z",
     "iopub.status.busy": "2023-01-31T09:49:29.811039Z",
     "iopub.status.idle": "2023-01-31T09:49:29.946981Z",
     "shell.execute_reply": "2023-01-31T09:49:29.946046Z"
    },
    "papermill": {
     "duration": 0.157838,
     "end_time": "2023-01-31T09:49:29.949397",
     "exception": false,
     "start_time": "2023-01-31T09:49:29.791559",
     "status": "completed"
    },
    "tags": []
   },
   "outputs": [],
   "source": [
    "test_1 = pd.read_csv(\"/kaggle/input/airline-passenger-satisfaction/test.csv\")"
   ]
  },
  {
   "cell_type": "code",
   "execution_count": 7,
   "id": "564855b4",
   "metadata": {
    "execution": {
     "iopub.execute_input": "2023-01-31T09:49:29.987492Z",
     "iopub.status.busy": "2023-01-31T09:49:29.986708Z",
     "iopub.status.idle": "2023-01-31T09:49:30.009094Z",
     "shell.execute_reply": "2023-01-31T09:49:30.008046Z"
    },
    "papermill": {
     "duration": 0.044134,
     "end_time": "2023-01-31T09:49:30.011523",
     "exception": false,
     "start_time": "2023-01-31T09:49:29.967389",
     "status": "completed"
    },
    "tags": []
   },
   "outputs": [
    {
     "data": {
      "text/html": [
       "<div>\n",
       "<style scoped>\n",
       "    .dataframe tbody tr th:only-of-type {\n",
       "        vertical-align: middle;\n",
       "    }\n",
       "\n",
       "    .dataframe tbody tr th {\n",
       "        vertical-align: top;\n",
       "    }\n",
       "\n",
       "    .dataframe thead th {\n",
       "        text-align: right;\n",
       "    }\n",
       "</style>\n",
       "<table border=\"1\" class=\"dataframe\">\n",
       "  <thead>\n",
       "    <tr style=\"text-align: right;\">\n",
       "      <th></th>\n",
       "      <th>Unnamed: 0</th>\n",
       "      <th>id</th>\n",
       "      <th>Gender</th>\n",
       "      <th>Customer Type</th>\n",
       "      <th>Age</th>\n",
       "      <th>Type of Travel</th>\n",
       "      <th>Class</th>\n",
       "      <th>Flight Distance</th>\n",
       "      <th>Inflight wifi service</th>\n",
       "      <th>Departure/Arrival time convenient</th>\n",
       "      <th>...</th>\n",
       "      <th>Inflight entertainment</th>\n",
       "      <th>On-board service</th>\n",
       "      <th>Leg room service</th>\n",
       "      <th>Baggage handling</th>\n",
       "      <th>Checkin service</th>\n",
       "      <th>Inflight service</th>\n",
       "      <th>Cleanliness</th>\n",
       "      <th>Departure Delay in Minutes</th>\n",
       "      <th>Arrival Delay in Minutes</th>\n",
       "      <th>satisfaction</th>\n",
       "    </tr>\n",
       "  </thead>\n",
       "  <tbody>\n",
       "    <tr>\n",
       "      <th>0</th>\n",
       "      <td>0</td>\n",
       "      <td>19556</td>\n",
       "      <td>Female</td>\n",
       "      <td>Loyal Customer</td>\n",
       "      <td>52</td>\n",
       "      <td>Business travel</td>\n",
       "      <td>Eco</td>\n",
       "      <td>160</td>\n",
       "      <td>5</td>\n",
       "      <td>4</td>\n",
       "      <td>...</td>\n",
       "      <td>5</td>\n",
       "      <td>5</td>\n",
       "      <td>5</td>\n",
       "      <td>5</td>\n",
       "      <td>2</td>\n",
       "      <td>5</td>\n",
       "      <td>5</td>\n",
       "      <td>50</td>\n",
       "      <td>44.0</td>\n",
       "      <td>satisfied</td>\n",
       "    </tr>\n",
       "    <tr>\n",
       "      <th>1</th>\n",
       "      <td>1</td>\n",
       "      <td>90035</td>\n",
       "      <td>Female</td>\n",
       "      <td>Loyal Customer</td>\n",
       "      <td>36</td>\n",
       "      <td>Business travel</td>\n",
       "      <td>Business</td>\n",
       "      <td>2863</td>\n",
       "      <td>1</td>\n",
       "      <td>1</td>\n",
       "      <td>...</td>\n",
       "      <td>4</td>\n",
       "      <td>4</td>\n",
       "      <td>4</td>\n",
       "      <td>4</td>\n",
       "      <td>3</td>\n",
       "      <td>4</td>\n",
       "      <td>5</td>\n",
       "      <td>0</td>\n",
       "      <td>0.0</td>\n",
       "      <td>satisfied</td>\n",
       "    </tr>\n",
       "    <tr>\n",
       "      <th>2</th>\n",
       "      <td>2</td>\n",
       "      <td>12360</td>\n",
       "      <td>Male</td>\n",
       "      <td>disloyal Customer</td>\n",
       "      <td>20</td>\n",
       "      <td>Business travel</td>\n",
       "      <td>Eco</td>\n",
       "      <td>192</td>\n",
       "      <td>2</td>\n",
       "      <td>0</td>\n",
       "      <td>...</td>\n",
       "      <td>2</td>\n",
       "      <td>4</td>\n",
       "      <td>1</td>\n",
       "      <td>3</td>\n",
       "      <td>2</td>\n",
       "      <td>2</td>\n",
       "      <td>2</td>\n",
       "      <td>0</td>\n",
       "      <td>0.0</td>\n",
       "      <td>neutral or dissatisfied</td>\n",
       "    </tr>\n",
       "    <tr>\n",
       "      <th>3</th>\n",
       "      <td>3</td>\n",
       "      <td>77959</td>\n",
       "      <td>Male</td>\n",
       "      <td>Loyal Customer</td>\n",
       "      <td>44</td>\n",
       "      <td>Business travel</td>\n",
       "      <td>Business</td>\n",
       "      <td>3377</td>\n",
       "      <td>0</td>\n",
       "      <td>0</td>\n",
       "      <td>...</td>\n",
       "      <td>1</td>\n",
       "      <td>1</td>\n",
       "      <td>1</td>\n",
       "      <td>1</td>\n",
       "      <td>3</td>\n",
       "      <td>1</td>\n",
       "      <td>4</td>\n",
       "      <td>0</td>\n",
       "      <td>6.0</td>\n",
       "      <td>satisfied</td>\n",
       "    </tr>\n",
       "    <tr>\n",
       "      <th>4</th>\n",
       "      <td>4</td>\n",
       "      <td>36875</td>\n",
       "      <td>Female</td>\n",
       "      <td>Loyal Customer</td>\n",
       "      <td>49</td>\n",
       "      <td>Business travel</td>\n",
       "      <td>Eco</td>\n",
       "      <td>1182</td>\n",
       "      <td>2</td>\n",
       "      <td>3</td>\n",
       "      <td>...</td>\n",
       "      <td>2</td>\n",
       "      <td>2</td>\n",
       "      <td>2</td>\n",
       "      <td>2</td>\n",
       "      <td>4</td>\n",
       "      <td>2</td>\n",
       "      <td>4</td>\n",
       "      <td>0</td>\n",
       "      <td>20.0</td>\n",
       "      <td>satisfied</td>\n",
       "    </tr>\n",
       "  </tbody>\n",
       "</table>\n",
       "<p>5 rows × 25 columns</p>\n",
       "</div>"
      ],
      "text/plain": [
       "   Unnamed: 0     id  Gender      Customer Type  Age   Type of Travel  \\\n",
       "0           0  19556  Female     Loyal Customer   52  Business travel   \n",
       "1           1  90035  Female     Loyal Customer   36  Business travel   \n",
       "2           2  12360    Male  disloyal Customer   20  Business travel   \n",
       "3           3  77959    Male     Loyal Customer   44  Business travel   \n",
       "4           4  36875  Female     Loyal Customer   49  Business travel   \n",
       "\n",
       "      Class  Flight Distance  Inflight wifi service  \\\n",
       "0       Eco              160                      5   \n",
       "1  Business             2863                      1   \n",
       "2       Eco              192                      2   \n",
       "3  Business             3377                      0   \n",
       "4       Eco             1182                      2   \n",
       "\n",
       "   Departure/Arrival time convenient  ...  Inflight entertainment  \\\n",
       "0                                  4  ...                       5   \n",
       "1                                  1  ...                       4   \n",
       "2                                  0  ...                       2   \n",
       "3                                  0  ...                       1   \n",
       "4                                  3  ...                       2   \n",
       "\n",
       "   On-board service  Leg room service  Baggage handling  Checkin service  \\\n",
       "0                 5                 5                 5                2   \n",
       "1                 4                 4                 4                3   \n",
       "2                 4                 1                 3                2   \n",
       "3                 1                 1                 1                3   \n",
       "4                 2                 2                 2                4   \n",
       "\n",
       "   Inflight service  Cleanliness  Departure Delay in Minutes  \\\n",
       "0                 5            5                          50   \n",
       "1                 4            5                           0   \n",
       "2                 2            2                           0   \n",
       "3                 1            4                           0   \n",
       "4                 2            4                           0   \n",
       "\n",
       "   Arrival Delay in Minutes             satisfaction  \n",
       "0                      44.0                satisfied  \n",
       "1                       0.0                satisfied  \n",
       "2                       0.0  neutral or dissatisfied  \n",
       "3                       6.0                satisfied  \n",
       "4                      20.0                satisfied  \n",
       "\n",
       "[5 rows x 25 columns]"
      ]
     },
     "execution_count": 7,
     "metadata": {},
     "output_type": "execute_result"
    }
   ],
   "source": [
    "test_1.head()"
   ]
  },
  {
   "cell_type": "code",
   "execution_count": 8,
   "id": "7ac38b99",
   "metadata": {
    "execution": {
     "iopub.execute_input": "2023-01-31T09:49:30.051137Z",
     "iopub.status.busy": "2023-01-31T09:49:30.050347Z",
     "iopub.status.idle": "2023-01-31T09:49:30.102261Z",
     "shell.execute_reply": "2023-01-31T09:49:30.100597Z"
    },
    "papermill": {
     "duration": 0.075924,
     "end_time": "2023-01-31T09:49:30.106238",
     "exception": false,
     "start_time": "2023-01-31T09:49:30.030314",
     "status": "completed"
    },
    "tags": []
   },
   "outputs": [
    {
     "name": "stdout",
     "output_type": "stream",
     "text": [
      "<class 'pandas.core.frame.DataFrame'>\n",
      "RangeIndex: 103904 entries, 0 to 103903\n",
      "Data columns (total 25 columns):\n",
      " #   Column                             Non-Null Count   Dtype  \n",
      "---  ------                             --------------   -----  \n",
      " 0   Unnamed: 0                         103904 non-null  int64  \n",
      " 1   id                                 103904 non-null  int64  \n",
      " 2   Gender                             103904 non-null  object \n",
      " 3   Customer Type                      103904 non-null  object \n",
      " 4   Age                                103904 non-null  int64  \n",
      " 5   Type of Travel                     103904 non-null  object \n",
      " 6   Class                              103904 non-null  object \n",
      " 7   Flight Distance                    103904 non-null  int64  \n",
      " 8   Inflight wifi service              103904 non-null  int64  \n",
      " 9   Departure/Arrival time convenient  103904 non-null  int64  \n",
      " 10  Ease of Online booking             103904 non-null  int64  \n",
      " 11  Gate location                      103904 non-null  int64  \n",
      " 12  Food and drink                     103904 non-null  int64  \n",
      " 13  Online boarding                    103904 non-null  int64  \n",
      " 14  Seat comfort                       103904 non-null  int64  \n",
      " 15  Inflight entertainment             103904 non-null  int64  \n",
      " 16  On-board service                   103904 non-null  int64  \n",
      " 17  Leg room service                   103904 non-null  int64  \n",
      " 18  Baggage handling                   103904 non-null  int64  \n",
      " 19  Checkin service                    103904 non-null  int64  \n",
      " 20  Inflight service                   103904 non-null  int64  \n",
      " 21  Cleanliness                        103904 non-null  int64  \n",
      " 22  Departure Delay in Minutes         103904 non-null  int64  \n",
      " 23  Arrival Delay in Minutes           103594 non-null  float64\n",
      " 24  satisfaction                       103904 non-null  object \n",
      "dtypes: float64(1), int64(19), object(5)\n",
      "memory usage: 19.8+ MB\n"
     ]
    }
   ],
   "source": [
    "train_1.info()"
   ]
  },
  {
   "cell_type": "code",
   "execution_count": 9,
   "id": "27a98e49",
   "metadata": {
    "execution": {
     "iopub.execute_input": "2023-01-31T09:49:30.145685Z",
     "iopub.status.busy": "2023-01-31T09:49:30.144901Z",
     "iopub.status.idle": "2023-01-31T09:49:30.161201Z",
     "shell.execute_reply": "2023-01-31T09:49:30.160127Z"
    },
    "papermill": {
     "duration": 0.03823,
     "end_time": "2023-01-31T09:49:30.163619",
     "exception": false,
     "start_time": "2023-01-31T09:49:30.125389",
     "status": "completed"
    },
    "tags": []
   },
   "outputs": [
    {
     "data": {
      "text/plain": [
       "Loyal Customer       84923\n",
       "disloyal Customer    18981\n",
       "Name: Customer Type, dtype: int64"
      ]
     },
     "execution_count": 9,
     "metadata": {},
     "output_type": "execute_result"
    }
   ],
   "source": [
    "train_1[\"Customer Type\"].value_counts()"
   ]
  },
  {
   "cell_type": "code",
   "execution_count": 10,
   "id": "c92e779e",
   "metadata": {
    "execution": {
     "iopub.execute_input": "2023-01-31T09:49:30.202325Z",
     "iopub.status.busy": "2023-01-31T09:49:30.201927Z",
     "iopub.status.idle": "2023-01-31T09:49:30.217324Z",
     "shell.execute_reply": "2023-01-31T09:49:30.216202Z"
    },
    "papermill": {
     "duration": 0.037329,
     "end_time": "2023-01-31T09:49:30.219718",
     "exception": false,
     "start_time": "2023-01-31T09:49:30.182389",
     "status": "completed"
    },
    "tags": []
   },
   "outputs": [
    {
     "data": {
      "text/plain": [
       "Business travel    71655\n",
       "Personal Travel    32249\n",
       "Name: Type of Travel, dtype: int64"
      ]
     },
     "execution_count": 10,
     "metadata": {},
     "output_type": "execute_result"
    }
   ],
   "source": [
    "train_1[\"Type of Travel\"].value_counts()"
   ]
  },
  {
   "cell_type": "code",
   "execution_count": 11,
   "id": "4e543a4f",
   "metadata": {
    "execution": {
     "iopub.execute_input": "2023-01-31T09:49:30.258709Z",
     "iopub.status.busy": "2023-01-31T09:49:30.258265Z",
     "iopub.status.idle": "2023-01-31T09:49:30.274414Z",
     "shell.execute_reply": "2023-01-31T09:49:30.273196Z"
    },
    "papermill": {
     "duration": 0.038665,
     "end_time": "2023-01-31T09:49:30.276822",
     "exception": false,
     "start_time": "2023-01-31T09:49:30.238157",
     "status": "completed"
    },
    "tags": []
   },
   "outputs": [
    {
     "data": {
      "text/plain": [
       "Business    49665\n",
       "Eco         46745\n",
       "Eco Plus     7494\n",
       "Name: Class, dtype: int64"
      ]
     },
     "execution_count": 11,
     "metadata": {},
     "output_type": "execute_result"
    }
   ],
   "source": [
    "train_1[\"Class\"].value_counts()"
   ]
  },
  {
   "cell_type": "code",
   "execution_count": 12,
   "id": "0d463087",
   "metadata": {
    "execution": {
     "iopub.execute_input": "2023-01-31T09:49:30.317200Z",
     "iopub.status.busy": "2023-01-31T09:49:30.316785Z",
     "iopub.status.idle": "2023-01-31T09:49:30.332849Z",
     "shell.execute_reply": "2023-01-31T09:49:30.331472Z"
    },
    "papermill": {
     "duration": 0.03989,
     "end_time": "2023-01-31T09:49:30.335307",
     "exception": false,
     "start_time": "2023-01-31T09:49:30.295417",
     "status": "completed"
    },
    "tags": []
   },
   "outputs": [
    {
     "data": {
      "text/plain": [
       "neutral or dissatisfied    58879\n",
       "satisfied                  45025\n",
       "Name: satisfaction, dtype: int64"
      ]
     },
     "execution_count": 12,
     "metadata": {},
     "output_type": "execute_result"
    }
   ],
   "source": [
    "train_1[\"satisfaction\"].value_counts()"
   ]
  },
  {
   "cell_type": "code",
   "execution_count": 13,
   "id": "94aed726",
   "metadata": {
    "execution": {
     "iopub.execute_input": "2023-01-31T09:49:30.374329Z",
     "iopub.status.busy": "2023-01-31T09:49:30.373921Z",
     "iopub.status.idle": "2023-01-31T09:49:30.514598Z",
     "shell.execute_reply": "2023-01-31T09:49:30.513547Z"
    },
    "papermill": {
     "duration": 0.163019,
     "end_time": "2023-01-31T09:49:30.517100",
     "exception": false,
     "start_time": "2023-01-31T09:49:30.354081",
     "status": "completed"
    },
    "tags": []
   },
   "outputs": [
    {
     "data": {
      "text/html": [
       "<div>\n",
       "<style scoped>\n",
       "    .dataframe tbody tr th:only-of-type {\n",
       "        vertical-align: middle;\n",
       "    }\n",
       "\n",
       "    .dataframe tbody tr th {\n",
       "        vertical-align: top;\n",
       "    }\n",
       "\n",
       "    .dataframe thead th {\n",
       "        text-align: right;\n",
       "    }\n",
       "</style>\n",
       "<table border=\"1\" class=\"dataframe\">\n",
       "  <thead>\n",
       "    <tr style=\"text-align: right;\">\n",
       "      <th></th>\n",
       "      <th>Unnamed: 0</th>\n",
       "      <th>id</th>\n",
       "      <th>Age</th>\n",
       "      <th>Flight Distance</th>\n",
       "      <th>Inflight wifi service</th>\n",
       "      <th>Departure/Arrival time convenient</th>\n",
       "      <th>Ease of Online booking</th>\n",
       "      <th>Gate location</th>\n",
       "      <th>Food and drink</th>\n",
       "      <th>Online boarding</th>\n",
       "      <th>Seat comfort</th>\n",
       "      <th>Inflight entertainment</th>\n",
       "      <th>On-board service</th>\n",
       "      <th>Leg room service</th>\n",
       "      <th>Baggage handling</th>\n",
       "      <th>Checkin service</th>\n",
       "      <th>Inflight service</th>\n",
       "      <th>Cleanliness</th>\n",
       "      <th>Departure Delay in Minutes</th>\n",
       "      <th>Arrival Delay in Minutes</th>\n",
       "    </tr>\n",
       "  </thead>\n",
       "  <tbody>\n",
       "    <tr>\n",
       "      <th>count</th>\n",
       "      <td>103904.000000</td>\n",
       "      <td>103904.000000</td>\n",
       "      <td>103904.000000</td>\n",
       "      <td>103904.000000</td>\n",
       "      <td>103904.000000</td>\n",
       "      <td>103904.000000</td>\n",
       "      <td>103904.000000</td>\n",
       "      <td>103904.000000</td>\n",
       "      <td>103904.000000</td>\n",
       "      <td>103904.000000</td>\n",
       "      <td>103904.000000</td>\n",
       "      <td>103904.000000</td>\n",
       "      <td>103904.000000</td>\n",
       "      <td>103904.000000</td>\n",
       "      <td>103904.000000</td>\n",
       "      <td>103904.000000</td>\n",
       "      <td>103904.000000</td>\n",
       "      <td>103904.000000</td>\n",
       "      <td>103904.000000</td>\n",
       "      <td>103594.000000</td>\n",
       "    </tr>\n",
       "    <tr>\n",
       "      <th>mean</th>\n",
       "      <td>51951.500000</td>\n",
       "      <td>64924.210502</td>\n",
       "      <td>39.379706</td>\n",
       "      <td>1189.448375</td>\n",
       "      <td>2.729683</td>\n",
       "      <td>3.060296</td>\n",
       "      <td>2.756901</td>\n",
       "      <td>2.976883</td>\n",
       "      <td>3.202129</td>\n",
       "      <td>3.250375</td>\n",
       "      <td>3.439396</td>\n",
       "      <td>3.358158</td>\n",
       "      <td>3.382363</td>\n",
       "      <td>3.351055</td>\n",
       "      <td>3.631833</td>\n",
       "      <td>3.304290</td>\n",
       "      <td>3.640428</td>\n",
       "      <td>3.286351</td>\n",
       "      <td>14.815618</td>\n",
       "      <td>15.178678</td>\n",
       "    </tr>\n",
       "    <tr>\n",
       "      <th>std</th>\n",
       "      <td>29994.645522</td>\n",
       "      <td>37463.812252</td>\n",
       "      <td>15.114964</td>\n",
       "      <td>997.147281</td>\n",
       "      <td>1.327829</td>\n",
       "      <td>1.525075</td>\n",
       "      <td>1.398929</td>\n",
       "      <td>1.277621</td>\n",
       "      <td>1.329533</td>\n",
       "      <td>1.349509</td>\n",
       "      <td>1.319088</td>\n",
       "      <td>1.332991</td>\n",
       "      <td>1.288354</td>\n",
       "      <td>1.315605</td>\n",
       "      <td>1.180903</td>\n",
       "      <td>1.265396</td>\n",
       "      <td>1.175663</td>\n",
       "      <td>1.312273</td>\n",
       "      <td>38.230901</td>\n",
       "      <td>38.698682</td>\n",
       "    </tr>\n",
       "    <tr>\n",
       "      <th>min</th>\n",
       "      <td>0.000000</td>\n",
       "      <td>1.000000</td>\n",
       "      <td>7.000000</td>\n",
       "      <td>31.000000</td>\n",
       "      <td>0.000000</td>\n",
       "      <td>0.000000</td>\n",
       "      <td>0.000000</td>\n",
       "      <td>0.000000</td>\n",
       "      <td>0.000000</td>\n",
       "      <td>0.000000</td>\n",
       "      <td>0.000000</td>\n",
       "      <td>0.000000</td>\n",
       "      <td>0.000000</td>\n",
       "      <td>0.000000</td>\n",
       "      <td>1.000000</td>\n",
       "      <td>0.000000</td>\n",
       "      <td>0.000000</td>\n",
       "      <td>0.000000</td>\n",
       "      <td>0.000000</td>\n",
       "      <td>0.000000</td>\n",
       "    </tr>\n",
       "    <tr>\n",
       "      <th>25%</th>\n",
       "      <td>25975.750000</td>\n",
       "      <td>32533.750000</td>\n",
       "      <td>27.000000</td>\n",
       "      <td>414.000000</td>\n",
       "      <td>2.000000</td>\n",
       "      <td>2.000000</td>\n",
       "      <td>2.000000</td>\n",
       "      <td>2.000000</td>\n",
       "      <td>2.000000</td>\n",
       "      <td>2.000000</td>\n",
       "      <td>2.000000</td>\n",
       "      <td>2.000000</td>\n",
       "      <td>2.000000</td>\n",
       "      <td>2.000000</td>\n",
       "      <td>3.000000</td>\n",
       "      <td>3.000000</td>\n",
       "      <td>3.000000</td>\n",
       "      <td>2.000000</td>\n",
       "      <td>0.000000</td>\n",
       "      <td>0.000000</td>\n",
       "    </tr>\n",
       "    <tr>\n",
       "      <th>50%</th>\n",
       "      <td>51951.500000</td>\n",
       "      <td>64856.500000</td>\n",
       "      <td>40.000000</td>\n",
       "      <td>843.000000</td>\n",
       "      <td>3.000000</td>\n",
       "      <td>3.000000</td>\n",
       "      <td>3.000000</td>\n",
       "      <td>3.000000</td>\n",
       "      <td>3.000000</td>\n",
       "      <td>3.000000</td>\n",
       "      <td>4.000000</td>\n",
       "      <td>4.000000</td>\n",
       "      <td>4.000000</td>\n",
       "      <td>4.000000</td>\n",
       "      <td>4.000000</td>\n",
       "      <td>3.000000</td>\n",
       "      <td>4.000000</td>\n",
       "      <td>3.000000</td>\n",
       "      <td>0.000000</td>\n",
       "      <td>0.000000</td>\n",
       "    </tr>\n",
       "    <tr>\n",
       "      <th>75%</th>\n",
       "      <td>77927.250000</td>\n",
       "      <td>97368.250000</td>\n",
       "      <td>51.000000</td>\n",
       "      <td>1743.000000</td>\n",
       "      <td>4.000000</td>\n",
       "      <td>4.000000</td>\n",
       "      <td>4.000000</td>\n",
       "      <td>4.000000</td>\n",
       "      <td>4.000000</td>\n",
       "      <td>4.000000</td>\n",
       "      <td>5.000000</td>\n",
       "      <td>4.000000</td>\n",
       "      <td>4.000000</td>\n",
       "      <td>4.000000</td>\n",
       "      <td>5.000000</td>\n",
       "      <td>4.000000</td>\n",
       "      <td>5.000000</td>\n",
       "      <td>4.000000</td>\n",
       "      <td>12.000000</td>\n",
       "      <td>13.000000</td>\n",
       "    </tr>\n",
       "    <tr>\n",
       "      <th>max</th>\n",
       "      <td>103903.000000</td>\n",
       "      <td>129880.000000</td>\n",
       "      <td>85.000000</td>\n",
       "      <td>4983.000000</td>\n",
       "      <td>5.000000</td>\n",
       "      <td>5.000000</td>\n",
       "      <td>5.000000</td>\n",
       "      <td>5.000000</td>\n",
       "      <td>5.000000</td>\n",
       "      <td>5.000000</td>\n",
       "      <td>5.000000</td>\n",
       "      <td>5.000000</td>\n",
       "      <td>5.000000</td>\n",
       "      <td>5.000000</td>\n",
       "      <td>5.000000</td>\n",
       "      <td>5.000000</td>\n",
       "      <td>5.000000</td>\n",
       "      <td>5.000000</td>\n",
       "      <td>1592.000000</td>\n",
       "      <td>1584.000000</td>\n",
       "    </tr>\n",
       "  </tbody>\n",
       "</table>\n",
       "</div>"
      ],
      "text/plain": [
       "          Unnamed: 0             id            Age  Flight Distance  \\\n",
       "count  103904.000000  103904.000000  103904.000000    103904.000000   \n",
       "mean    51951.500000   64924.210502      39.379706      1189.448375   \n",
       "std     29994.645522   37463.812252      15.114964       997.147281   \n",
       "min         0.000000       1.000000       7.000000        31.000000   \n",
       "25%     25975.750000   32533.750000      27.000000       414.000000   \n",
       "50%     51951.500000   64856.500000      40.000000       843.000000   \n",
       "75%     77927.250000   97368.250000      51.000000      1743.000000   \n",
       "max    103903.000000  129880.000000      85.000000      4983.000000   \n",
       "\n",
       "       Inflight wifi service  Departure/Arrival time convenient  \\\n",
       "count          103904.000000                      103904.000000   \n",
       "mean                2.729683                           3.060296   \n",
       "std                 1.327829                           1.525075   \n",
       "min                 0.000000                           0.000000   \n",
       "25%                 2.000000                           2.000000   \n",
       "50%                 3.000000                           3.000000   \n",
       "75%                 4.000000                           4.000000   \n",
       "max                 5.000000                           5.000000   \n",
       "\n",
       "       Ease of Online booking  Gate location  Food and drink  Online boarding  \\\n",
       "count           103904.000000  103904.000000   103904.000000    103904.000000   \n",
       "mean                 2.756901       2.976883        3.202129         3.250375   \n",
       "std                  1.398929       1.277621        1.329533         1.349509   \n",
       "min                  0.000000       0.000000        0.000000         0.000000   \n",
       "25%                  2.000000       2.000000        2.000000         2.000000   \n",
       "50%                  3.000000       3.000000        3.000000         3.000000   \n",
       "75%                  4.000000       4.000000        4.000000         4.000000   \n",
       "max                  5.000000       5.000000        5.000000         5.000000   \n",
       "\n",
       "        Seat comfort  Inflight entertainment  On-board service  \\\n",
       "count  103904.000000           103904.000000     103904.000000   \n",
       "mean        3.439396                3.358158          3.382363   \n",
       "std         1.319088                1.332991          1.288354   \n",
       "min         0.000000                0.000000          0.000000   \n",
       "25%         2.000000                2.000000          2.000000   \n",
       "50%         4.000000                4.000000          4.000000   \n",
       "75%         5.000000                4.000000          4.000000   \n",
       "max         5.000000                5.000000          5.000000   \n",
       "\n",
       "       Leg room service  Baggage handling  Checkin service  Inflight service  \\\n",
       "count     103904.000000     103904.000000    103904.000000     103904.000000   \n",
       "mean           3.351055          3.631833         3.304290          3.640428   \n",
       "std            1.315605          1.180903         1.265396          1.175663   \n",
       "min            0.000000          1.000000         0.000000          0.000000   \n",
       "25%            2.000000          3.000000         3.000000          3.000000   \n",
       "50%            4.000000          4.000000         3.000000          4.000000   \n",
       "75%            4.000000          5.000000         4.000000          5.000000   \n",
       "max            5.000000          5.000000         5.000000          5.000000   \n",
       "\n",
       "         Cleanliness  Departure Delay in Minutes  Arrival Delay in Minutes  \n",
       "count  103904.000000               103904.000000             103594.000000  \n",
       "mean        3.286351                   14.815618                 15.178678  \n",
       "std         1.312273                   38.230901                 38.698682  \n",
       "min         0.000000                    0.000000                  0.000000  \n",
       "25%         2.000000                    0.000000                  0.000000  \n",
       "50%         3.000000                    0.000000                  0.000000  \n",
       "75%         4.000000                   12.000000                 13.000000  \n",
       "max         5.000000                 1592.000000               1584.000000  "
      ]
     },
     "execution_count": 13,
     "metadata": {},
     "output_type": "execute_result"
    }
   ],
   "source": [
    "train_1.describe()"
   ]
  },
  {
   "cell_type": "code",
   "execution_count": 14,
   "id": "7f7289f3",
   "metadata": {
    "execution": {
     "iopub.execute_input": "2023-01-31T09:49:30.557556Z",
     "iopub.status.busy": "2023-01-31T09:49:30.556761Z",
     "iopub.status.idle": "2023-01-31T09:49:30.898694Z",
     "shell.execute_reply": "2023-01-31T09:49:30.897386Z"
    },
    "papermill": {
     "duration": 0.36528,
     "end_time": "2023-01-31T09:49:30.901613",
     "exception": false,
     "start_time": "2023-01-31T09:49:30.536333",
     "status": "completed"
    },
    "tags": []
   },
   "outputs": [
    {
     "data": {
      "text/plain": [
       "<AxesSubplot:xlabel='Inflight wifi service', ylabel='count'>"
      ]
     },
     "execution_count": 14,
     "metadata": {},
     "output_type": "execute_result"
    },
    {
     "data": {
      "image/png": "[encoded data removed]",
      "text/plain": [
       "<Figure size 432x288 with 1 Axes>"
      ]
     },
     "metadata": {
      "needs_background": "light"
     },
     "output_type": "display_data"
    }
   ],
   "source": [
    "sns.countplot(data=train_1, x=\"Inflight wifi service\", hue=\"satisfaction\")"
   ]
  },
  {
   "cell_type": "code",
   "execution_count": 15,
   "id": "c8a56aaa",
   "metadata": {
    "execution": {
     "iopub.execute_input": "2023-01-31T09:49:30.948699Z",
     "iopub.status.busy": "2023-01-31T09:49:30.947808Z",
     "iopub.status.idle": "2023-01-31T09:49:31.280877Z",
     "shell.execute_reply": "2023-01-31T09:49:31.279910Z"
    },
    "papermill": {
     "duration": 0.360936,
     "end_time": "2023-01-31T09:49:31.283187",
     "exception": false,
     "start_time": "2023-01-31T09:49:30.922251",
     "status": "completed"
    },
    "tags": []
   },
   "outputs": [
    {
     "data": {
      "text/plain": [
       "<AxesSubplot:xlabel='Departure/Arrival time convenient', ylabel='count'>"
      ]
     },
     "execution_count": 15,
     "metadata": {},
     "output_type": "execute_result"
    },
    {
     "data": {
      "image/png": "[encoded data removed]",
      "text/plain": [
       "<Figure size 432x288 with 1 Axes>"
      ]
     },
     "metadata": {
      "needs_background": "light"
     },
     "output_type": "display_data"
    }
   ],
   "source": [
    "sns.countplot(data=train_1, x=\"Departure/Arrival time convenient\", hue=\"satisfaction\")"
   ]
  },
  {
   "cell_type": "code",
   "execution_count": 16,
   "id": "e4e2976c",
   "metadata": {
    "execution": {
     "iopub.execute_input": "2023-01-31T09:49:31.326914Z",
     "iopub.status.busy": "2023-01-31T09:49:31.326451Z",
     "iopub.status.idle": "2023-01-31T09:49:31.641079Z",
     "shell.execute_reply": "2023-01-31T09:49:31.639740Z"
    },
    "papermill": {
     "duration": 0.339683,
     "end_time": "2023-01-31T09:49:31.643776",
     "exception": false,
     "start_time": "2023-01-31T09:49:31.304093",
     "status": "completed"
    },
    "tags": []
   },
   "outputs": [
    {
     "data": {
      "text/plain": [
       "<AxesSubplot:xlabel='Ease of Online booking', ylabel='count'>"
      ]
     },
     "execution_count": 16,
     "metadata": {},
     "output_type": "execute_result"
    },
    {
     "data": {
      "image/png": "[encoded data removed]",
      "text/plain": [
       "<Figure size 432x288 with 1 Axes>"
      ]
     },
     "metadata": {
      "needs_background": "light"
     },
     "output_type": "display_data"
    }
   ],
   "source": [
    "sns.countplot(data=train_1, x=\"Ease of Online booking\", hue=\"satisfaction\")"
   ]
  },
  {
   "cell_type": "code",
   "execution_count": 17,
   "id": "ef398c27",
   "metadata": {
    "execution": {
     "iopub.execute_input": "2023-01-31T09:49:31.688053Z",
     "iopub.status.busy": "2023-01-31T09:49:31.686948Z",
     "iopub.status.idle": "2023-01-31T09:49:31.942358Z",
     "shell.execute_reply": "2023-01-31T09:49:31.941095Z"
    },
    "papermill": {
     "duration": 0.280648,
     "end_time": "2023-01-31T09:49:31.944956",
     "exception": false,
     "start_time": "2023-01-31T09:49:31.664308",
     "status": "completed"
    },
    "tags": []
   },
   "outputs": [
    {
     "data": {
      "text/plain": [
       "<AxesSubplot:xlabel='Gate location', ylabel='count'>"
      ]
     },
     "execution_count": 17,
     "metadata": {},
     "output_type": "execute_result"
    },
    {
     "data": {
      "image/png": "[encoded data removed]",
      "text/plain": [
       "<Figure size 432x288 with 1 Axes>"
      ]
     },
     "metadata": {
      "needs_background": "light"
     },
     "output_type": "display_data"
    }
   ],
   "source": [
    "sns.countplot(data=train_1, x=\"Gate location\", hue=\"satisfaction\")"
   ]
  },
  {
   "cell_type": "code",
   "execution_count": 18,
   "id": "055ad593",
   "metadata": {
    "execution": {
     "iopub.execute_input": "2023-01-31T09:49:31.990594Z",
     "iopub.status.busy": "2023-01-31T09:49:31.990154Z",
     "iopub.status.idle": "2023-01-31T09:49:32.669320Z",
     "shell.execute_reply": "2023-01-31T09:49:32.668176Z"
    },
    "papermill": {
     "duration": 0.705024,
     "end_time": "2023-01-31T09:49:32.671914",
     "exception": false,
     "start_time": "2023-01-31T09:49:31.966890",
     "status": "completed"
    },
    "tags": []
   },
   "outputs": [
    {
     "data": {
      "text/plain": [
       "<AxesSubplot:xlabel='Flight Distance', ylabel='Count'>"
      ]
     },
     "execution_count": 18,
     "metadata": {},
     "output_type": "execute_result"
    },
    {
     "data": {
      "image/png": "[encoded data removed]",
      "text/plain": [
       "<Figure size 432x288 with 1 Axes>"
      ]
     },
     "metadata": {
      "needs_background": "light"
     },
     "output_type": "display_data"
    }
   ],
   "source": [
    "sns.histplot(data=train_1, x=\"Flight Distance\", hue=\"satisfaction\")"
   ]
  },
  {
   "cell_type": "code",
   "execution_count": 19,
   "id": "4d13d7e0",
   "metadata": {
    "execution": {
     "iopub.execute_input": "2023-01-31T09:49:32.717134Z",
     "iopub.status.busy": "2023-01-31T09:49:32.716504Z",
     "iopub.status.idle": "2023-01-31T09:49:32.723341Z",
     "shell.execute_reply": "2023-01-31T09:49:32.722588Z"
    },
    "papermill": {
     "duration": 0.032001,
     "end_time": "2023-01-31T09:49:32.725680",
     "exception": false,
     "start_time": "2023-01-31T09:49:32.693679",
     "status": "completed"
    },
    "tags": []
   },
   "outputs": [
    {
     "data": {
      "text/plain": [
       "3"
      ]
     },
     "execution_count": 19,
     "metadata": {},
     "output_type": "execute_result"
    }
   ],
   "source": [
    "len(train_1[train_1[\"Departure Delay in Minutes\"]>1000])"
   ]
  },
  {
   "cell_type": "code",
   "execution_count": 20,
   "id": "461f5757",
   "metadata": {
    "execution": {
     "iopub.execute_input": "2023-01-31T09:49:32.771839Z",
     "iopub.status.busy": "2023-01-31T09:49:32.771398Z",
     "iopub.status.idle": "2023-01-31T09:49:32.780024Z",
     "shell.execute_reply": "2023-01-31T09:49:32.778909Z"
    },
    "papermill": {
     "duration": 0.035311,
     "end_time": "2023-01-31T09:49:32.782682",
     "exception": false,
     "start_time": "2023-01-31T09:49:32.747371",
     "status": "completed"
    },
    "tags": []
   },
   "outputs": [
    {
     "data": {
      "text/plain": [
       "3"
      ]
     },
     "execution_count": 20,
     "metadata": {},
     "output_type": "execute_result"
    }
   ],
   "source": [
    "len(train_1[train_1[\"Arrival Delay in Minutes\"]>1000])"
   ]
  },
  {
   "cell_type": "code",
   "execution_count": 21,
   "id": "5cb0e5d3",
   "metadata": {
    "execution": {
     "iopub.execute_input": "2023-01-31T09:49:32.828808Z",
     "iopub.status.busy": "2023-01-31T09:49:32.828359Z",
     "iopub.status.idle": "2023-01-31T09:49:32.840771Z",
     "shell.execute_reply": "2023-01-31T09:49:32.839399Z"
    },
    "papermill": {
     "duration": 0.039508,
     "end_time": "2023-01-31T09:49:32.843830",
     "exception": false,
     "start_time": "2023-01-31T09:49:32.804322",
     "status": "completed"
    },
    "tags": []
   },
   "outputs": [
    {
     "data": {
      "text/plain": [
       "3507"
      ]
     },
     "execution_count": 21,
     "metadata": {},
     "output_type": "execute_result"
    }
   ],
   "source": [
    "len(train_1[train_1[\"Departure Delay in Minutes\"]>100])"
   ]
  },
  {
   "cell_type": "code",
   "execution_count": 22,
   "id": "3adf6f76",
   "metadata": {
    "execution": {
     "iopub.execute_input": "2023-01-31T09:49:32.890713Z",
     "iopub.status.busy": "2023-01-31T09:49:32.890285Z",
     "iopub.status.idle": "2023-01-31T09:49:32.900840Z",
     "shell.execute_reply": "2023-01-31T09:49:32.899994Z"
    },
    "papermill": {
     "duration": 0.036953,
     "end_time": "2023-01-31T09:49:32.903058",
     "exception": false,
     "start_time": "2023-01-31T09:49:32.866105",
     "status": "completed"
    },
    "tags": []
   },
   "outputs": [
    {
     "data": {
      "text/plain": [
       "3599"
      ]
     },
     "execution_count": 22,
     "metadata": {},
     "output_type": "execute_result"
    }
   ],
   "source": [
    "len(train_1[train_1[\"Arrival Delay in Minutes\"]>100])"
   ]
  },
  {
   "cell_type": "code",
   "execution_count": 23,
   "id": "71afbbd9",
   "metadata": {
    "execution": {
     "iopub.execute_input": "2023-01-31T09:49:32.949684Z",
     "iopub.status.busy": "2023-01-31T09:49:32.949160Z",
     "iopub.status.idle": "2023-01-31T09:49:32.958160Z",
     "shell.execute_reply": "2023-01-31T09:49:32.957022Z"
    },
    "papermill": {
     "duration": 0.034886,
     "end_time": "2023-01-31T09:49:32.960401",
     "exception": false,
     "start_time": "2023-01-31T09:49:32.925515",
     "status": "completed"
    },
    "tags": []
   },
   "outputs": [
    {
     "data": {
      "text/plain": [
       "0              0\n",
       "1              1\n",
       "2              2\n",
       "3              3\n",
       "4              4\n",
       "           ...  \n",
       "103899    103899\n",
       "103900    103900\n",
       "103901    103901\n",
       "103902    103902\n",
       "103903    103903\n",
       "Name: Unnamed: 0, Length: 103904, dtype: int64"
      ]
     },
     "execution_count": 23,
     "metadata": {},
     "output_type": "execute_result"
    }
   ],
   "source": [
    "train_1.pop(train_1.columns[0])"
   ]
  },
  {
   "cell_type": "code",
   "execution_count": 24,
   "id": "f0dae3db",
   "metadata": {
    "execution": {
     "iopub.execute_input": "2023-01-31T09:49:33.006177Z",
     "iopub.status.busy": "2023-01-31T09:49:33.005765Z",
     "iopub.status.idle": "2023-01-31T09:49:33.014743Z",
     "shell.execute_reply": "2023-01-31T09:49:33.013645Z"
    },
    "papermill": {
     "duration": 0.034736,
     "end_time": "2023-01-31T09:49:33.017015",
     "exception": false,
     "start_time": "2023-01-31T09:49:32.982279",
     "status": "completed"
    },
    "tags": []
   },
   "outputs": [
    {
     "data": {
      "text/plain": [
       "0          70172\n",
       "1           5047\n",
       "2         110028\n",
       "3          24026\n",
       "4         119299\n",
       "           ...  \n",
       "103899     94171\n",
       "103900     73097\n",
       "103901     68825\n",
       "103902     54173\n",
       "103903     62567\n",
       "Name: id, Length: 103904, dtype: int64"
      ]
     },
     "execution_count": 24,
     "metadata": {},
     "output_type": "execute_result"
    }
   ],
   "source": [
    "train_1.pop(train_1.columns[0])"
   ]
  },
  {
   "cell_type": "code",
   "execution_count": 25,
   "id": "072591ad",
   "metadata": {
    "execution": {
     "iopub.execute_input": "2023-01-31T09:49:33.062941Z",
     "iopub.status.busy": "2023-01-31T09:49:33.062561Z",
     "iopub.status.idle": "2023-01-31T09:49:35.230170Z",
     "shell.execute_reply": "2023-01-31T09:49:35.229268Z"
    },
    "papermill": {
     "duration": 2.196161,
     "end_time": "2023-01-31T09:49:35.235244",
     "exception": false,
     "start_time": "2023-01-31T09:49:33.039083",
     "status": "completed"
    },
    "tags": []
   },
   "outputs": [
    {
     "data": {
      "text/plain": [
       "<AxesSubplot:>"
      ]
     },
     "execution_count": 25,
     "metadata": {},
     "output_type": "execute_result"
    },
    {
     "data": {
      "image/png": "[encoded data removed]",
      "text/plain": [
       "<Figure size 1440x1080 with 2 Axes>"
      ]
     },
     "metadata": {
      "needs_background": "light"
     },
     "output_type": "display_data"
    }
   ],
   "source": [
    "train_satisfaction = train_1.copy()\n",
    "train_satisfaction['satisfaction'] = train_satisfaction['satisfaction'].replace(['neutral or dissatisfied', 'satisfied'], [0, 1])\n",
    "\n",
    "corr = train_satisfaction.corr()\n",
    "plt.figure(figsize=(20,15))\n",
    "sns.heatmap(corr, annot=True)"
   ]
  },
  {
   "cell_type": "code",
   "execution_count": 26,
   "id": "84dc136d",
   "metadata": {
    "execution": {
     "iopub.execute_input": "2023-01-31T09:49:35.289334Z",
     "iopub.status.busy": "2023-01-31T09:49:35.288886Z",
     "iopub.status.idle": "2023-01-31T09:49:39.665453Z",
     "shell.execute_reply": "2023-01-31T09:49:39.664165Z"
    },
    "papermill": {
     "duration": 4.406687,
     "end_time": "2023-01-31T09:49:39.667975",
     "exception": false,
     "start_time": "2023-01-31T09:49:35.261288",
     "status": "completed"
    },
    "tags": []
   },
   "outputs": [
    {
     "data": {
      "text/plain": [
       "Online boarding                      0.210858\n",
       "Inflight wifi service                0.161702\n",
       "Class                                0.133508\n",
       "Type of Travel                       0.113635\n",
       "Inflight entertainment               0.093717\n",
       "Flight Distance                      0.081411\n",
       "Seat comfort                         0.078879\n",
       "Leg room service                     0.060730\n",
       "On-board service                     0.057203\n",
       "Cleanliness                          0.051827\n",
       "Ease of Online booking               0.050834\n",
       "Age                                  0.046166\n",
       "Baggage handling                     0.042633\n",
       "Inflight service                     0.040982\n",
       "Checkin service                      0.031930\n",
       "Food and drink                       0.026221\n",
       "Customer Type                        0.018590\n",
       "Gate location                        0.012023\n",
       "Arrival Delay in Minutes             0.010338\n",
       "Departure Delay in Minutes           0.005331\n",
       "Departure/Arrival time convenient    0.002173\n",
       "Gender                               0.000075\n",
       "Name: MI Scores, dtype: float64"
      ]
     },
     "execution_count": 26,
     "metadata": {},
     "output_type": "execute_result"
    }
   ],
   "source": [
    "from sklearn.feature_selection import mutual_info_classif\n",
    "\n",
    "def make_mi_scores(X, y, discrete_features):\n",
    "    mi_scores = mutual_info_classif(X, y, discrete_features = discrete_features)\n",
    "    mi_scores = pd.Series(mi_scores, name=\"MI Scores\", index=X.columns)\n",
    "    mi_scores = mi_scores.sort_values(ascending=False)\n",
    "    return mi_scores\n",
    "\n",
    "X = train_1.copy()\n",
    "y = X.pop(\"satisfaction\")\n",
    "for colname in X.select_dtypes(\"object\"):\n",
    "    X[colname], _ = X[colname].factorize()\n",
    "discrete_features = X.dtypes == int\n",
    "X[\"Arrival Delay in Minutes\"].fillna(0, inplace=True)\n",
    "mi_scores = make_mi_scores(X, y, discrete_features)\n",
    "mi_scores"
   ]
  },
  {
   "cell_type": "code",
   "execution_count": 27,
   "id": "32485918",
   "metadata": {
    "execution": {
     "iopub.execute_input": "2023-01-31T09:49:39.722866Z",
     "iopub.status.busy": "2023-01-31T09:49:39.722370Z",
     "iopub.status.idle": "2023-01-31T09:49:39.969636Z",
     "shell.execute_reply": "2023-01-31T09:49:39.968318Z"
    },
    "papermill": {
     "duration": 0.277836,
     "end_time": "2023-01-31T09:49:39.972116",
     "exception": false,
     "start_time": "2023-01-31T09:49:39.694280",
     "status": "completed"
    },
    "tags": []
   },
   "outputs": [
    {
     "data": {
      "text/plain": [
       "<AxesSubplot:xlabel='Online boarding', ylabel='count'>"
      ]
     },
     "execution_count": 27,
     "metadata": {},
     "output_type": "execute_result"
    },
    {
     "data": {
      "image/png": "[encoded data removed]",
      "text/plain": [
       "<Figure size 432x288 with 1 Axes>"
      ]
     },
     "metadata": {
      "needs_background": "light"
     },
     "output_type": "display_data"
    }
   ],
   "source": [
    "sns.countplot(x=\"Online boarding\", hue=\"satisfaction\", data=train_1)"
   ]
  },
  {
   "cell_type": "code",
   "execution_count": 28,
   "id": "7d9cbec0",
   "metadata": {
    "execution": {
     "iopub.execute_input": "2023-01-31T09:49:40.027416Z",
     "iopub.status.busy": "2023-01-31T09:49:40.026765Z",
     "iopub.status.idle": "2023-01-31T09:49:40.297987Z",
     "shell.execute_reply": "2023-01-31T09:49:40.296783Z"
    },
    "papermill": {
     "duration": 0.301753,
     "end_time": "2023-01-31T09:49:40.300318",
     "exception": false,
     "start_time": "2023-01-31T09:49:39.998565",
     "status": "completed"
    },
    "tags": []
   },
   "outputs": [
    {
     "data": {
      "text/plain": [
       "<AxesSubplot:xlabel='Class', ylabel='count'>"
      ]
     },
     "execution_count": 28,
     "metadata": {},
     "output_type": "execute_result"
    },
    {
     "data": {
      "image/png": "[encoded data removed]",
      "text/plain": [
       "<Figure size 432x288 with 1 Axes>"
      ]
     },
     "metadata": {
      "needs_background": "light"
     },
     "output_type": "display_data"
    }
   ],
   "source": [
    "sns.countplot(x=\"Class\", hue=\"satisfaction\", data=train_1)"
   ]
  },
  {
   "cell_type": "code",
   "execution_count": 29,
   "id": "6f6142cb",
   "metadata": {
    "execution": {
     "iopub.execute_input": "2023-01-31T09:49:40.355519Z",
     "iopub.status.busy": "2023-01-31T09:49:40.354259Z",
     "iopub.status.idle": "2023-01-31T09:49:40.620594Z",
     "shell.execute_reply": "2023-01-31T09:49:40.618830Z"
    },
    "papermill": {
     "duration": 0.296419,
     "end_time": "2023-01-31T09:49:40.623174",
     "exception": false,
     "start_time": "2023-01-31T09:49:40.326755",
     "status": "completed"
    },
    "tags": []
   },
   "outputs": [
    {
     "data": {
      "text/plain": [
       "<AxesSubplot:xlabel='Type of Travel', ylabel='count'>"
      ]
     },
     "execution_count": 29,
     "metadata": {},
     "output_type": "execute_result"
    },
    {
     "data": {
      "image/png": "[encoded data removed]",
      "text/plain": [
       "<Figure size 432x288 with 1 Axes>"
      ]
     },
     "metadata": {
      "needs_background": "light"
     },
     "output_type": "display_data"
    }
   ],
   "source": [
    "sns.countplot(x=\"Type of Travel\", hue=\"satisfaction\", data=train_1)"
   ]
  },
  {
   "cell_type": "code",
   "execution_count": 30,
   "id": "2e373f97",
   "metadata": {
    "execution": {
     "iopub.execute_input": "2023-01-31T09:49:40.679115Z",
     "iopub.status.busy": "2023-01-31T09:49:40.678477Z",
     "iopub.status.idle": "2023-01-31T09:49:40.919017Z",
     "shell.execute_reply": "2023-01-31T09:49:40.918142Z"
    },
    "papermill": {
     "duration": 0.271078,
     "end_time": "2023-01-31T09:49:40.921287",
     "exception": false,
     "start_time": "2023-01-31T09:49:40.650209",
     "status": "completed"
    },
    "tags": []
   },
   "outputs": [
    {
     "data": {
      "text/plain": [
       "<AxesSubplot:xlabel='Inflight entertainment', ylabel='count'>"
      ]
     },
     "execution_count": 30,
     "metadata": {},
     "output_type": "execute_result"
    },
    {
     "data": {
      "image/png": "[encoded data removed]",
      "text/plain": [
       "<Figure size 432x288 with 1 Axes>"
      ]
     },
     "metadata": {
      "needs_background": "light"
     },
     "output_type": "display_data"
    }
   ],
   "source": [
    "sns.countplot(x=\"Inflight entertainment\", hue=\"satisfaction\", data=train_1)"
   ]
  },
  {
   "cell_type": "code",
   "execution_count": 31,
   "id": "855f843e",
   "metadata": {
    "execution": {
     "iopub.execute_input": "2023-01-31T09:49:40.979942Z",
     "iopub.status.busy": "2023-01-31T09:49:40.979280Z",
     "iopub.status.idle": "2023-01-31T09:49:41.216395Z",
     "shell.execute_reply": "2023-01-31T09:49:41.215531Z"
    },
    "papermill": {
     "duration": 0.268265,
     "end_time": "2023-01-31T09:49:41.218778",
     "exception": false,
     "start_time": "2023-01-31T09:49:40.950513",
     "status": "completed"
    },
    "tags": []
   },
   "outputs": [
    {
     "data": {
      "text/plain": [
       "<AxesSubplot:xlabel='Seat comfort', ylabel='count'>"
      ]
     },
     "execution_count": 31,
     "metadata": {},
     "output_type": "execute_result"
    },
    {
     "data": {
      "image/png": "[encoded data removed]",
      "text/plain": [
       "<Figure size 432x288 with 1 Axes>"
      ]
     },
     "metadata": {
      "needs_background": "light"
     },
     "output_type": "display_data"
    }
   ],
   "source": [
    "sns.countplot(x=\"Seat comfort\", hue=\"satisfaction\", data=train_1)"
   ]
  },
  {
   "cell_type": "code",
   "execution_count": 32,
   "id": "8aa5b3da",
   "metadata": {
    "execution": {
     "iopub.execute_input": "2023-01-31T09:49:41.276396Z",
     "iopub.status.busy": "2023-01-31T09:49:41.276002Z",
     "iopub.status.idle": "2023-01-31T09:49:41.521317Z",
     "shell.execute_reply": "2023-01-31T09:49:41.520202Z"
    },
    "papermill": {
     "duration": 0.277315,
     "end_time": "2023-01-31T09:49:41.524135",
     "exception": false,
     "start_time": "2023-01-31T09:49:41.246820",
     "status": "completed"
    },
    "tags": []
   },
   "outputs": [
    {
     "data": {
      "text/plain": [
       "<AxesSubplot:xlabel='Leg room service', ylabel='count'>"
      ]
     },
     "execution_count": 32,
     "metadata": {},
     "output_type": "execute_result"
    },
    {
     "data": {
      "image/png": "[encoded data removed]",
      "text/plain": [
       "<Figure size 432x288 with 1 Axes>"
      ]
     },
     "metadata": {
      "needs_background": "light"
     },
     "output_type": "display_data"
    }
   ],
   "source": [
    "sns.countplot(x=\"Leg room service\", hue=\"satisfaction\", data=train_1)"
   ]
  },
  {
   "cell_type": "code",
   "execution_count": 33,
   "id": "1c6f5efd",
   "metadata": {
    "execution": {
     "iopub.execute_input": "2023-01-31T09:49:41.581974Z",
     "iopub.status.busy": "2023-01-31T09:49:41.581573Z",
     "iopub.status.idle": "2023-01-31T09:49:41.591628Z",
     "shell.execute_reply": "2023-01-31T09:49:41.590279Z"
    },
    "papermill": {
     "duration": 0.042174,
     "end_time": "2023-01-31T09:49:41.594309",
     "exception": false,
     "start_time": "2023-01-31T09:49:41.552135",
     "status": "completed"
    },
    "tags": []
   },
   "outputs": [
    {
     "data": {
      "text/plain": [
       "6744                   satisfied\n",
       "61310                  satisfied\n",
       "83741    neutral or dissatisfied\n",
       "Name: satisfaction, dtype: object"
      ]
     },
     "execution_count": 33,
     "metadata": {},
     "output_type": "execute_result"
    }
   ],
   "source": [
    "train_1[\"satisfaction\"][train_1[\"Arrival Delay in Minutes\"]>1000]"
   ]
  },
  {
   "cell_type": "code",
   "execution_count": 34,
   "id": "a70a4df7",
   "metadata": {
    "execution": {
     "iopub.execute_input": "2023-01-31T09:49:41.651870Z",
     "iopub.status.busy": "2023-01-31T09:49:41.651464Z",
     "iopub.status.idle": "2023-01-31T09:49:47.075173Z",
     "shell.execute_reply": "2023-01-31T09:49:47.073980Z"
    },
    "papermill": {
     "duration": 5.455756,
     "end_time": "2023-01-31T09:49:47.077968",
     "exception": false,
     "start_time": "2023-01-31T09:49:41.622212",
     "status": "completed"
    },
    "tags": []
   },
   "outputs": [
    {
     "data": {
      "text/plain": [
       "Online boarding                      0.210858\n",
       "Inflight wifi service                0.161702\n",
       "Class                                0.133508\n",
       "In Flight                            0.130627\n",
       "Before Boarding                      0.124340\n",
       "Type of Travel                       0.113635\n",
       "Inflight entertainment               0.093717\n",
       "Flight Distance                      0.081411\n",
       "Seat comfort                         0.078879\n",
       "Leg room service                     0.060730\n",
       "On-board service                     0.057203\n",
       "Cleanliness                          0.051827\n",
       "Ease of Online booking               0.050834\n",
       "Age                                  0.046166\n",
       "Baggage handling                     0.042633\n",
       "Inflight service                     0.040982\n",
       "Checkin service                      0.031930\n",
       "Food and drink                       0.026221\n",
       "Customer Type                        0.018590\n",
       "Gate location                        0.012023\n",
       "Arrival Delay in Minutes             0.007121\n",
       "Departure Delay in Minutes           0.005331\n",
       "Departure/Arrival time convenient    0.002173\n",
       "Gender                               0.000075\n",
       "Name: MI Scores, dtype: float64"
      ]
     },
     "execution_count": 34,
     "metadata": {},
     "output_type": "execute_result"
    }
   ],
   "source": [
    "X = train_1.copy()\n",
    "y = X.pop(\"satisfaction\")\n",
    "\n",
    "X[\"In Flight\"] = (X[\"Inflight wifi service\"] + X[\"Inflight entertainment\"] + X[\"Seat comfort\"] + X[\"Leg room service\"] + X[\"Inflight service\"] +\n",
    "                 X[\"Cleanliness\"] + X[\"Food and drink\"]) / 7\n",
    "X[\"Before Boarding\"] = (X[\"Online boarding\"] + X[\"On-board service\"] + X[\"Ease of Online booking\"] + X[\"Baggage handling\"] + X[\"Checkin service\"] +\n",
    "                       X[\"Gate location\"]) / 6\n",
    "X[\"Arrival Delay in Minutes\"].fillna(0, inplace=True)\n",
    "\n",
    "for colname in X.select_dtypes(\"object\"):\n",
    "    X[colname], _ = X[colname].factorize()\n",
    "discrete_features = X.dtypes == int\n",
    "mi_scores = make_mi_scores(X, y, discrete_features)\n",
    "mi_scores"
   ]
  },
  {
   "cell_type": "code",
   "execution_count": 35,
   "id": "38ee173d",
   "metadata": {
    "execution": {
     "iopub.execute_input": "2023-01-31T09:49:47.136820Z",
     "iopub.status.busy": "2023-01-31T09:49:47.136369Z",
     "iopub.status.idle": "2023-01-31T09:49:47.142349Z",
     "shell.execute_reply": "2023-01-31T09:49:47.141137Z"
    },
    "papermill": {
     "duration": 0.038414,
     "end_time": "2023-01-31T09:49:47.144747",
     "exception": false,
     "start_time": "2023-01-31T09:49:47.106333",
     "status": "completed"
    },
    "tags": []
   },
   "outputs": [],
   "source": [
    "one_hot_feats = [\"Customer Type\", \"Type of Travel\"]\n",
    "ordinal_feats = [\"Class\"]\n",
    "normalize_feats = [\"Online boarding\", \"Inflight wifi service\", \"Inflight entertainment\", \"Flight Distance\", \"Seat comfort\", \"Leg room service\", \n",
    "                   \"On-board service\", \"Cleanliness\", \"Ease of Online booking\", \"Age\", \"Baggage handling\", \"Inflight service\", \"Checkin service\", \n",
    "                   \"Food and drink\", \"Gate location\", \"Departure/Arrival time convenient\", \"In Flight\", \"Before Boarding\"]"
   ]
  },
  {
   "cell_type": "code",
   "execution_count": 36,
   "id": "2e7eb9d1",
   "metadata": {
    "execution": {
     "iopub.execute_input": "2023-01-31T09:49:47.203796Z",
     "iopub.status.busy": "2023-01-31T09:49:47.203361Z",
     "iopub.status.idle": "2023-01-31T09:49:47.240156Z",
     "shell.execute_reply": "2023-01-31T09:49:47.238875Z"
    },
    "papermill": {
     "duration": 0.069507,
     "end_time": "2023-01-31T09:49:47.242952",
     "exception": false,
     "start_time": "2023-01-31T09:49:47.173445",
     "status": "completed"
    },
    "tags": []
   },
   "outputs": [],
   "source": [
    "X = train_1.copy()\n",
    "y = X.pop(\"satisfaction\")\n",
    "\n",
    "X[\"In Flight\"] = (X[\"Inflight wifi service\"] + X[\"Inflight entertainment\"] + X[\"Seat comfort\"] + X[\"Leg room service\"] + X[\"Inflight service\"] +\n",
    "                 X[\"Cleanliness\"] + X[\"Food and drink\"]) / 7\n",
    "X[\"Before Boarding\"] = (X[\"Online boarding\"] + X[\"On-board service\"] + X[\"Ease of Online booking\"] + X[\"Baggage handling\"] + X[\"Checkin service\"] +\n",
    "                       X[\"Gate location\"]) / 6\n",
    "X[\"Arrival Delay in Minutes\"].fillna(0, inplace=True)"
   ]
  },
  {
   "cell_type": "code",
   "execution_count": 37,
   "id": "00feda55",
   "metadata": {
    "execution": {
     "iopub.execute_input": "2023-01-31T09:49:47.301555Z",
     "iopub.status.busy": "2023-01-31T09:49:47.301113Z",
     "iopub.status.idle": "2023-01-31T09:49:47.327717Z",
     "shell.execute_reply": "2023-01-31T09:49:47.326303Z"
    },
    "papermill": {
     "duration": 0.059125,
     "end_time": "2023-01-31T09:49:47.330597",
     "exception": false,
     "start_time": "2023-01-31T09:49:47.271472",
     "status": "completed"
    },
    "tags": []
   },
   "outputs": [],
   "source": [
    "train_one_hot_feats = X[one_hot_feats]\n",
    "train_ordinal_feats = X[ordinal_feats]\n",
    "train_normalize_feats = X[normalize_feats]"
   ]
  },
  {
   "cell_type": "code",
   "execution_count": 38,
   "id": "f8ad8c46",
   "metadata": {
    "execution": {
     "iopub.execute_input": "2023-01-31T09:49:47.389591Z",
     "iopub.status.busy": "2023-01-31T09:49:47.389122Z",
     "iopub.status.idle": "2023-01-31T09:49:47.526008Z",
     "shell.execute_reply": "2023-01-31T09:49:47.524779Z"
    },
    "papermill": {
     "duration": 0.169711,
     "end_time": "2023-01-31T09:49:47.528576",
     "exception": false,
     "start_time": "2023-01-31T09:49:47.358865",
     "status": "completed"
    },
    "tags": []
   },
   "outputs": [],
   "source": [
    "from sklearn.preprocessing import OneHotEncoder, OrdinalEncoder, StandardScaler, MinMaxScaler\n",
    "\n",
    "one_hot = OneHotEncoder(sparse=False)\n",
    "train_one_hot_feats = one_hot.fit_transform(X[one_hot_feats])\n",
    "\n",
    "ordinal = OrdinalEncoder(categories=[['Eco', 'Eco Plus', 'Business']])\n",
    "train_ordinal_feats = ordinal.fit_transform(train_ordinal_feats)\n",
    "\n",
    "normalize = MinMaxScaler()\n",
    "train_normalize_feats = normalize.fit_transform(X[normalize_feats])"
   ]
  },
  {
   "cell_type": "code",
   "execution_count": 39,
   "id": "69935c88",
   "metadata": {
    "execution": {
     "iopub.execute_input": "2023-01-31T09:49:47.586739Z",
     "iopub.status.busy": "2023-01-31T09:49:47.586062Z",
     "iopub.status.idle": "2023-01-31T09:49:47.593393Z",
     "shell.execute_reply": "2023-01-31T09:49:47.592307Z"
    },
    "papermill": {
     "duration": 0.039,
     "end_time": "2023-01-31T09:49:47.595582",
     "exception": false,
     "start_time": "2023-01-31T09:49:47.556582",
     "status": "completed"
    },
    "tags": []
   },
   "outputs": [
    {
     "data": {
      "text/plain": [
       "array([[1., 0., 0., 1.],\n",
       "       [0., 1., 1., 0.],\n",
       "       [1., 0., 1., 0.],\n",
       "       ...,\n",
       "       [0., 1., 1., 0.],\n",
       "       [0., 1., 1., 0.],\n",
       "       [1., 0., 1., 0.]])"
      ]
     },
     "execution_count": 39,
     "metadata": {},
     "output_type": "execute_result"
    }
   ],
   "source": [
    "train_one_hot_feats"
   ]
  },
  {
   "cell_type": "code",
   "execution_count": 40,
   "id": "c5373bb2",
   "metadata": {
    "execution": {
     "iopub.execute_input": "2023-01-31T09:49:47.654327Z",
     "iopub.status.busy": "2023-01-31T09:49:47.653204Z",
     "iopub.status.idle": "2023-01-31T09:49:47.661190Z",
     "shell.execute_reply": "2023-01-31T09:49:47.659860Z"
    },
    "papermill": {
     "duration": 0.04006,
     "end_time": "2023-01-31T09:49:47.663669",
     "exception": false,
     "start_time": "2023-01-31T09:49:47.623609",
     "status": "completed"
    },
    "tags": []
   },
   "outputs": [
    {
     "data": {
      "text/plain": [
       "array([[1.],\n",
       "       [2.],\n",
       "       [2.],\n",
       "       ...,\n",
       "       [2.],\n",
       "       [0.],\n",
       "       [2.]])"
      ]
     },
     "execution_count": 40,
     "metadata": {},
     "output_type": "execute_result"
    }
   ],
   "source": [
    "train_ordinal_feats"
   ]
  },
  {
   "cell_type": "code",
   "execution_count": 41,
   "id": "794070ee",
   "metadata": {
    "execution": {
     "iopub.execute_input": "2023-01-31T09:49:47.722617Z",
     "iopub.status.busy": "2023-01-31T09:49:47.722103Z",
     "iopub.status.idle": "2023-01-31T09:49:47.729633Z",
     "shell.execute_reply": "2023-01-31T09:49:47.728766Z"
    },
    "papermill": {
     "duration": 0.039816,
     "end_time": "2023-01-31T09:49:47.731748",
     "exception": false,
     "start_time": "2023-01-31T09:49:47.691932",
     "status": "completed"
    },
    "tags": []
   },
   "outputs": [
    {
     "data": {
      "text/plain": [
       "array([[0.6       , 0.6       , 1.        , ..., 0.8       , 0.86206897,\n",
       "        0.57692308],\n",
       "       [0.6       , 0.6       , 0.2       , ..., 0.4       , 0.34482759,\n",
       "        0.38461538],\n",
       "       [1.        , 0.4       , 1.        , ..., 0.4       , 0.79310345,\n",
       "        0.65384615],\n",
       "       ...,\n",
       "       [0.2       , 0.2       , 0.8       , ..., 0.2       , 0.65517241,\n",
       "        0.5       ],\n",
       "       [0.2       , 0.2       , 0.2       , ..., 0.2       , 0.27586207,\n",
       "        0.5       ],\n",
       "       [0.2       , 0.2       , 0.2       , ..., 0.6       , 0.10344828,\n",
       "        0.46153846]])"
      ]
     },
     "execution_count": 41,
     "metadata": {},
     "output_type": "execute_result"
    }
   ],
   "source": [
    "train_normalize_feats"
   ]
  },
  {
   "cell_type": "code",
   "execution_count": 42,
   "id": "3f9e07a5",
   "metadata": {
    "execution": {
     "iopub.execute_input": "2023-01-31T09:49:47.790814Z",
     "iopub.status.busy": "2023-01-31T09:49:47.790387Z",
     "iopub.status.idle": "2023-01-31T09:49:47.803871Z",
     "shell.execute_reply": "2023-01-31T09:49:47.802606Z"
    },
    "papermill": {
     "duration": 0.046412,
     "end_time": "2023-01-31T09:49:47.806634",
     "exception": false,
     "start_time": "2023-01-31T09:49:47.760222",
     "status": "completed"
    },
    "tags": []
   },
   "outputs": [],
   "source": [
    "train_data = np.concatenate((train_one_hot_feats, train_ordinal_feats, train_normalize_feats), axis=1)"
   ]
  },
  {
   "cell_type": "code",
   "execution_count": 43,
   "id": "42322e7c",
   "metadata": {
    "execution": {
     "iopub.execute_input": "2023-01-31T09:49:47.865693Z",
     "iopub.status.busy": "2023-01-31T09:49:47.865259Z",
     "iopub.status.idle": "2023-01-31T09:49:47.872275Z",
     "shell.execute_reply": "2023-01-31T09:49:47.870911Z"
    },
    "papermill": {
     "duration": 0.039373,
     "end_time": "2023-01-31T09:49:47.874482",
     "exception": false,
     "start_time": "2023-01-31T09:49:47.835109",
     "status": "completed"
    },
    "tags": []
   },
   "outputs": [
    {
     "data": {
      "text/plain": [
       "(103904, 23)"
      ]
     },
     "execution_count": 43,
     "metadata": {},
     "output_type": "execute_result"
    }
   ],
   "source": [
    "train_data.shape"
   ]
  },
  {
   "cell_type": "code",
   "execution_count": 44,
   "id": "7aa3698a",
   "metadata": {
    "execution": {
     "iopub.execute_input": "2023-01-31T09:49:47.933279Z",
     "iopub.status.busy": "2023-01-31T09:49:47.932848Z",
     "iopub.status.idle": "2023-01-31T09:49:47.964866Z",
     "shell.execute_reply": "2023-01-31T09:49:47.963686Z"
    },
    "papermill": {
     "duration": 0.064949,
     "end_time": "2023-01-31T09:49:47.967763",
     "exception": false,
     "start_time": "2023-01-31T09:49:47.902814",
     "status": "completed"
    },
    "tags": []
   },
   "outputs": [],
   "source": [
    "from sklearn.preprocessing import LabelEncoder\n",
    "\n",
    "label = LabelEncoder()\n",
    "train_labels = label.fit_transform(y)"
   ]
  },
  {
   "cell_type": "code",
   "execution_count": 45,
   "id": "9d53565b",
   "metadata": {
    "execution": {
     "iopub.execute_input": "2023-01-31T09:49:48.027032Z",
     "iopub.status.busy": "2023-01-31T09:49:48.026596Z",
     "iopub.status.idle": "2023-01-31T09:49:48.032213Z",
     "shell.execute_reply": "2023-01-31T09:49:48.031489Z"
    },
    "papermill": {
     "duration": 0.038018,
     "end_time": "2023-01-31T09:49:48.034579",
     "exception": false,
     "start_time": "2023-01-31T09:49:47.996561",
     "status": "completed"
    },
    "tags": []
   },
   "outputs": [
    {
     "data": {
      "text/plain": [
       "array([0, 0, 1, ..., 0, 0, 0])"
      ]
     },
     "execution_count": 45,
     "metadata": {},
     "output_type": "execute_result"
    }
   ],
   "source": [
    "train_labels"
   ]
  },
  {
   "cell_type": "code",
   "execution_count": 46,
   "id": "65ffccf7",
   "metadata": {
    "execution": {
     "iopub.execute_input": "2023-01-31T09:49:48.094714Z",
     "iopub.status.busy": "2023-01-31T09:49:48.094290Z",
     "iopub.status.idle": "2023-01-31T09:49:48.099239Z",
     "shell.execute_reply": "2023-01-31T09:49:48.098036Z"
    },
    "papermill": {
     "duration": 0.038128,
     "end_time": "2023-01-31T09:49:48.101499",
     "exception": false,
     "start_time": "2023-01-31T09:49:48.063371",
     "status": "completed"
    },
    "tags": []
   },
   "outputs": [],
   "source": [
    "from sklearn.svm import LinearSVC\n",
    "\n",
    "lin_svc = LinearSVC()"
   ]
  },
  {
   "cell_type": "code",
   "execution_count": 47,
   "id": "3525f907",
   "metadata": {
    "execution": {
     "iopub.execute_input": "2023-01-31T09:49:48.162550Z",
     "iopub.status.busy": "2023-01-31T09:49:48.162068Z",
     "iopub.status.idle": "2023-01-31T09:50:03.011432Z",
     "shell.execute_reply": "2023-01-31T09:50:03.010333Z"
    },
    "papermill": {
     "duration": 14.883045,
     "end_time": "2023-01-31T09:50:03.013806",
     "exception": false,
     "start_time": "2023-01-31T09:49:48.130761",
     "status": "completed"
    },
    "tags": []
   },
   "outputs": [
    {
     "data": {
      "text/plain": [
       "LinearSVC()"
      ]
     },
     "execution_count": 47,
     "metadata": {},
     "output_type": "execute_result"
    }
   ],
   "source": [
    "lin_svc.fit(train_data, train_labels)"
   ]
  },
  {
   "cell_type": "code",
   "execution_count": 48,
   "id": "7f6d17ca",
   "metadata": {
    "execution": {
     "iopub.execute_input": "2023-01-31T09:50:03.074094Z",
     "iopub.status.busy": "2023-01-31T09:50:03.073683Z",
     "iopub.status.idle": "2023-01-31T09:50:03.114281Z",
     "shell.execute_reply": "2023-01-31T09:50:03.112743Z"
    },
    "papermill": {
     "duration": 0.075246,
     "end_time": "2023-01-31T09:50:03.118496",
     "exception": false,
     "start_time": "2023-01-31T09:50:03.043250",
     "status": "completed"
    },
    "tags": []
   },
   "outputs": [
    {
     "data": {
      "text/plain": [
       "0.8733061287342162"
      ]
     },
     "execution_count": 48,
     "metadata": {},
     "output_type": "execute_result"
    }
   ],
   "source": [
    "from sklearn.metrics import accuracy_score\n",
    "lin_pred = lin_svc.predict(train_data)\n",
    "accuracy_score(train_labels, lin_pred)"
   ]
  },
  {
   "cell_type": "code",
   "execution_count": 49,
   "id": "0cc45e76",
   "metadata": {
    "execution": {
     "iopub.execute_input": "2023-01-31T09:50:03.230215Z",
     "iopub.status.busy": "2023-01-31T09:50:03.229792Z",
     "iopub.status.idle": "2023-01-31T09:50:03.237104Z",
     "shell.execute_reply": "2023-01-31T09:50:03.235922Z"
    },
    "papermill": {
     "duration": 0.047412,
     "end_time": "2023-01-31T09:50:03.239347",
     "exception": false,
     "start_time": "2023-01-31T09:50:03.191935",
     "status": "completed"
    },
    "tags": []
   },
   "outputs": [
    {
     "data": {
      "text/plain": [
       "array([0, 0, 1, ..., 0, 0, 0])"
      ]
     },
     "execution_count": 49,
     "metadata": {},
     "output_type": "execute_result"
    }
   ],
   "source": [
    "lin_pred"
   ]
  },
  {
   "cell_type": "code",
   "execution_count": 50,
   "id": "3f2f7c5a",
   "metadata": {
    "execution": {
     "iopub.execute_input": "2023-01-31T09:50:03.301562Z",
     "iopub.status.busy": "2023-01-31T09:50:03.300259Z",
     "iopub.status.idle": "2023-01-31T09:50:30.011170Z",
     "shell.execute_reply": "2023-01-31T09:50:30.007650Z"
    },
    "papermill": {
     "duration": 26.746949,
     "end_time": "2023-01-31T09:50:30.016327",
     "exception": false,
     "start_time": "2023-01-31T09:50:03.269378",
     "status": "completed"
    },
    "tags": []
   },
   "outputs": [
    {
     "name": "stderr",
     "output_type": "stream",
     "text": [
      "[Parallel(n_jobs=1)]: Using backend SequentialBackend with 1 concurrent workers.\n",
      "[Parallel(n_jobs=1)]: Done   3 out of   3 | elapsed:   26.7s finished\n"
     ]
    },
    {
     "data": {
      "text/plain": [
       "array([0.87226794, 0.8706222 , 0.876653  ])"
      ]
     },
     "execution_count": 50,
     "metadata": {},
     "output_type": "execute_result"
    }
   ],
   "source": [
    "from sklearn.model_selection import cross_val_score\n",
    "\n",
    "cross_val_score(lin_svc, train_data, train_labels, cv=3, scoring='accuracy', verbose=1)"
   ]
  },
  {
   "cell_type": "code",
   "execution_count": 51,
   "id": "30ff2359",
   "metadata": {
    "execution": {
     "iopub.execute_input": "2023-01-31T09:50:30.155957Z",
     "iopub.status.busy": "2023-01-31T09:50:30.155400Z",
     "iopub.status.idle": "2023-01-31T09:51:01.731060Z",
     "shell.execute_reply": "2023-01-31T09:51:01.723381Z"
    },
    "papermill": {
     "duration": 31.687538,
     "end_time": "2023-01-31T09:51:01.799940",
     "exception": false,
     "start_time": "2023-01-31T09:50:30.112402",
     "status": "completed"
    },
    "tags": []
   },
   "outputs": [
    {
     "name": "stderr",
     "output_type": "stream",
     "text": [
      "[Parallel(n_jobs=1)]: Using backend SequentialBackend with 1 concurrent workers.\n",
      "[Parallel(n_jobs=1)]: Done   3 out of   3 | elapsed:   31.5s finished\n"
     ]
    }
   ],
   "source": [
    "from sklearn.model_selection import cross_val_predict\n",
    "\n",
    "lin_pred_1 = cross_val_predict(lin_svc, train_data, train_labels, cv=3, verbose=1)"
   ]
  },
  {
   "cell_type": "code",
   "execution_count": 52,
   "id": "ab48f86f",
   "metadata": {
    "execution": {
     "iopub.execute_input": "2023-01-31T09:51:01.879857Z",
     "iopub.status.busy": "2023-01-31T09:51:01.878266Z",
     "iopub.status.idle": "2023-01-31T09:51:01.917658Z",
     "shell.execute_reply": "2023-01-31T09:51:01.916505Z"
    },
    "papermill": {
     "duration": 0.073716,
     "end_time": "2023-01-31T09:51:01.920524",
     "exception": false,
     "start_time": "2023-01-31T09:51:01.846808",
     "status": "completed"
    },
    "tags": []
   },
   "outputs": [
    {
     "data": {
      "text/plain": [
       "array([[53213,  5666],\n",
       "       [ 7511, 37514]])"
      ]
     },
     "execution_count": 52,
     "metadata": {},
     "output_type": "execute_result"
    }
   ],
   "source": [
    "from sklearn.metrics import confusion_matrix\n",
    "\n",
    "confusion_matrix(train_labels, lin_pred_1)"
   ]
  },
  {
   "cell_type": "code",
   "execution_count": 53,
   "id": "f6cfcd41",
   "metadata": {
    "execution": {
     "iopub.execute_input": "2023-01-31T09:51:01.982876Z",
     "iopub.status.busy": "2023-01-31T09:51:01.981898Z",
     "iopub.status.idle": "2023-01-31T09:51:02.041249Z",
     "shell.execute_reply": "2023-01-31T09:51:02.040304Z"
    },
    "papermill": {
     "duration": 0.093883,
     "end_time": "2023-01-31T09:51:02.044189",
     "exception": false,
     "start_time": "2023-01-31T09:51:01.950306",
     "status": "completed"
    },
    "tags": []
   },
   "outputs": [
    {
     "data": {
      "text/plain": [
       "0.8687818434460398"
      ]
     },
     "execution_count": 53,
     "metadata": {},
     "output_type": "execute_result"
    }
   ],
   "source": [
    "from sklearn.metrics import precision_score, recall_score\n",
    "precision_score(train_labels, lin_pred_1)"
   ]
  },
  {
   "cell_type": "code",
   "execution_count": 54,
   "id": "97d2d950",
   "metadata": {
    "execution": {
     "iopub.execute_input": "2023-01-31T09:51:02.107145Z",
     "iopub.status.busy": "2023-01-31T09:51:02.106596Z",
     "iopub.status.idle": "2023-01-31T09:51:02.163366Z",
     "shell.execute_reply": "2023-01-31T09:51:02.162020Z"
    },
    "papermill": {
     "duration": 0.091547,
     "end_time": "2023-01-31T09:51:02.166185",
     "exception": false,
     "start_time": "2023-01-31T09:51:02.074638",
     "status": "completed"
    },
    "tags": []
   },
   "outputs": [
    {
     "data": {
      "text/plain": [
       "0.8331815657967796"
      ]
     },
     "execution_count": 54,
     "metadata": {},
     "output_type": "execute_result"
    }
   ],
   "source": [
    "recall_score(train_labels, lin_pred_1)"
   ]
  },
  {
   "cell_type": "code",
   "execution_count": 55,
   "id": "bdce60cd",
   "metadata": {
    "execution": {
     "iopub.execute_input": "2023-01-31T09:51:02.230190Z",
     "iopub.status.busy": "2023-01-31T09:51:02.229775Z",
     "iopub.status.idle": "2023-01-31T09:51:02.287103Z",
     "shell.execute_reply": "2023-01-31T09:51:02.285865Z"
    },
    "papermill": {
     "duration": 0.093589,
     "end_time": "2023-01-31T09:51:02.289871",
     "exception": false,
     "start_time": "2023-01-31T09:51:02.196282",
     "status": "completed"
    },
    "tags": []
   },
   "outputs": [
    {
     "data": {
      "text/plain": [
       "0.8506093758857208"
      ]
     },
     "execution_count": 55,
     "metadata": {},
     "output_type": "execute_result"
    }
   ],
   "source": [
    "from sklearn.metrics import f1_score\n",
    "f1_score(train_labels, lin_pred_1)"
   ]
  },
  {
   "cell_type": "code",
   "execution_count": 56,
   "id": "a4b38fee",
   "metadata": {
    "execution": {
     "iopub.execute_input": "2023-01-31T09:51:02.358297Z",
     "iopub.status.busy": "2023-01-31T09:51:02.357368Z",
     "iopub.status.idle": "2023-01-31T09:51:02.363289Z",
     "shell.execute_reply": "2023-01-31T09:51:02.361963Z"
    },
    "papermill": {
     "duration": 0.044425,
     "end_time": "2023-01-31T09:51:02.365993",
     "exception": false,
     "start_time": "2023-01-31T09:51:02.321568",
     "status": "completed"
    },
    "tags": []
   },
   "outputs": [],
   "source": [
    "from sklearn.linear_model import SGDClassifier\n",
    "sgdc = SGDClassifier(random_state=42)"
   ]
  },
  {
   "cell_type": "code",
   "execution_count": 57,
   "id": "ce1afbd2",
   "metadata": {
    "execution": {
     "iopub.execute_input": "2023-01-31T09:51:02.431697Z",
     "iopub.status.busy": "2023-01-31T09:51:02.430466Z",
     "iopub.status.idle": "2023-01-31T09:51:02.866467Z",
     "shell.execute_reply": "2023-01-31T09:51:02.865290Z"
    },
    "papermill": {
     "duration": 0.471888,
     "end_time": "2023-01-31T09:51:02.869027",
     "exception": false,
     "start_time": "2023-01-31T09:51:02.397139",
     "status": "completed"
    },
    "tags": []
   },
   "outputs": [
    {
     "data": {
      "text/plain": [
       "SGDClassifier(random_state=42)"
      ]
     },
     "execution_count": 57,
     "metadata": {},
     "output_type": "execute_result"
    }
   ],
   "source": [
    "sgdc.fit(train_data, train_labels)"
   ]
  },
  {
   "cell_type": "code",
   "execution_count": 58,
   "id": "3d5d8ff0",
   "metadata": {
    "execution": {
     "iopub.execute_input": "2023-01-31T09:51:02.930807Z",
     "iopub.status.busy": "2023-01-31T09:51:02.930363Z",
     "iopub.status.idle": "2023-01-31T09:51:02.965305Z",
     "shell.execute_reply": "2023-01-31T09:51:02.964005Z"
    },
    "papermill": {
     "duration": 0.070138,
     "end_time": "2023-01-31T09:51:02.969290",
     "exception": false,
     "start_time": "2023-01-31T09:51:02.899152",
     "status": "completed"
    },
    "tags": []
   },
   "outputs": [
    {
     "data": {
      "text/plain": [
       "0.8765302587003387"
      ]
     },
     "execution_count": 58,
     "metadata": {},
     "output_type": "execute_result"
    }
   ],
   "source": [
    "sgdc_pred = sgdc.predict(train_data)\n",
    "accuracy_score(train_labels, sgdc_pred)"
   ]
  },
  {
   "cell_type": "code",
   "execution_count": 59,
   "id": "87e652a9",
   "metadata": {
    "execution": {
     "iopub.execute_input": "2023-01-31T09:51:03.085965Z",
     "iopub.status.busy": "2023-01-31T09:51:03.085555Z",
     "iopub.status.idle": "2023-01-31T09:51:03.115935Z",
     "shell.execute_reply": "2023-01-31T09:51:03.114612Z"
    },
    "papermill": {
     "duration": 0.072176,
     "end_time": "2023-01-31T09:51:03.118658",
     "exception": false,
     "start_time": "2023-01-31T09:51:03.046482",
     "status": "completed"
    },
    "tags": []
   },
   "outputs": [
    {
     "data": {
      "text/plain": [
       "array([[54195,  4684],\n",
       "       [ 8145, 36880]])"
      ]
     },
     "execution_count": 59,
     "metadata": {},
     "output_type": "execute_result"
    }
   ],
   "source": [
    "confusion_matrix(train_labels, sgdc_pred)"
   ]
  },
  {
   "cell_type": "code",
   "execution_count": 60,
   "id": "3a718916",
   "metadata": {
    "execution": {
     "iopub.execute_input": "2023-01-31T09:51:03.181875Z",
     "iopub.status.busy": "2023-01-31T09:51:03.181384Z",
     "iopub.status.idle": "2023-01-31T09:51:03.238135Z",
     "shell.execute_reply": "2023-01-31T09:51:03.236942Z"
    },
    "papermill": {
     "duration": 0.09132,
     "end_time": "2023-01-31T09:51:03.240523",
     "exception": false,
     "start_time": "2023-01-31T09:51:03.149203",
     "status": "completed"
    },
    "tags": []
   },
   "outputs": [
    {
     "data": {
      "text/plain": [
       "0.8191004997223764"
      ]
     },
     "execution_count": 60,
     "metadata": {},
     "output_type": "execute_result"
    }
   ],
   "source": [
    "recall_score(train_labels, sgdc_pred)"
   ]
  },
  {
   "cell_type": "code",
   "execution_count": 61,
   "id": "d5f06b1d",
   "metadata": {
    "execution": {
     "iopub.execute_input": "2023-01-31T09:51:03.303658Z",
     "iopub.status.busy": "2023-01-31T09:51:03.303161Z",
     "iopub.status.idle": "2023-01-31T09:51:03.358587Z",
     "shell.execute_reply": "2023-01-31T09:51:03.357537Z"
    },
    "papermill": {
     "duration": 0.090175,
     "end_time": "2023-01-31T09:51:03.361192",
     "exception": false,
     "start_time": "2023-01-31T09:51:03.271017",
     "status": "completed"
    },
    "tags": []
   },
   "outputs": [
    {
     "data": {
      "text/plain": [
       "0.8518403030408019"
      ]
     },
     "execution_count": 61,
     "metadata": {},
     "output_type": "execute_result"
    }
   ],
   "source": [
    "f1_score(train_labels, sgdc_pred)"
   ]
  },
  {
   "cell_type": "code",
   "execution_count": 62,
   "id": "702a3d92",
   "metadata": {
    "execution": {
     "iopub.execute_input": "2023-01-31T09:51:03.425352Z",
     "iopub.status.busy": "2023-01-31T09:51:03.424905Z",
     "iopub.status.idle": "2023-01-31T09:52:27.370663Z",
     "shell.execute_reply": "2023-01-31T09:52:27.369308Z"
    },
    "papermill": {
     "duration": 84.01073,
     "end_time": "2023-01-31T09:52:27.403442",
     "exception": false,
     "start_time": "2023-01-31T09:51:03.392712",
     "status": "completed"
    },
    "tags": []
   },
   "outputs": [
    {
     "data": {
      "text/plain": [
       "GradientBoostingClassifier(learning_rate=0.8, max_depth=2, n_estimators=500,\n",
       "                           random_state=42)"
      ]
     },
     "execution_count": 62,
     "metadata": {},
     "output_type": "execute_result"
    }
   ],
   "source": [
    "from sklearn.ensemble import GradientBoostingClassifier\n",
    "\n",
    "grad = GradientBoostingClassifier(\n",
    "    n_estimators=500,\n",
    "    learning_rate=0.8,\n",
    "    random_state=42,\n",
    "    max_depth=2\n",
    ")\n",
    "\n",
    "grad.fit(train_data, train_labels)"
   ]
  },
  {
   "cell_type": "code",
   "execution_count": 63,
   "id": "7153d6cc",
   "metadata": {
    "execution": {
     "iopub.execute_input": "2023-01-31T09:52:27.468589Z",
     "iopub.status.busy": "2023-01-31T09:52:27.468050Z",
     "iopub.status.idle": "2023-01-31T09:52:28.071977Z",
     "shell.execute_reply": "2023-01-31T09:52:28.070858Z"
    },
    "papermill": {
     "duration": 0.639345,
     "end_time": "2023-01-31T09:52:28.074639",
     "exception": false,
     "start_time": "2023-01-31T09:52:27.435294",
     "status": "completed"
    },
    "tags": []
   },
   "outputs": [
    {
     "data": {
      "text/plain": [
       "0.9597320603634124"
      ]
     },
     "execution_count": 63,
     "metadata": {},
     "output_type": "execute_result"
    }
   ],
   "source": [
    "grad_pred = grad.predict(train_data)\n",
    "accuracy_score(train_labels, grad_pred)"
   ]
  },
  {
   "cell_type": "code",
   "execution_count": 64,
   "id": "03dd6057",
   "metadata": {
    "execution": {
     "iopub.execute_input": "2023-01-31T09:52:28.139866Z",
     "iopub.status.busy": "2023-01-31T09:52:28.139376Z",
     "iopub.status.idle": "2023-01-31T09:52:28.169154Z",
     "shell.execute_reply": "2023-01-31T09:52:28.167908Z"
    },
    "papermill": {
     "duration": 0.06608,
     "end_time": "2023-01-31T09:52:28.172055",
     "exception": false,
     "start_time": "2023-01-31T09:52:28.105975",
     "status": "completed"
    },
    "tags": []
   },
   "outputs": [
    {
     "data": {
      "text/plain": [
       "array([[57397,  1482],\n",
       "       [ 2702, 42323]])"
      ]
     },
     "execution_count": 64,
     "metadata": {},
     "output_type": "execute_result"
    }
   ],
   "source": [
    "confusion_matrix(train_labels, grad_pred)"
   ]
  },
  {
   "cell_type": "code",
   "execution_count": 65,
   "id": "16c88ee0",
   "metadata": {
    "execution": {
     "iopub.execute_input": "2023-01-31T09:52:28.236883Z",
     "iopub.status.busy": "2023-01-31T09:52:28.236462Z",
     "iopub.status.idle": "2023-01-31T09:52:28.291780Z",
     "shell.execute_reply": "2023-01-31T09:52:28.290868Z"
    },
    "papermill": {
     "duration": 0.090697,
     "end_time": "2023-01-31T09:52:28.293963",
     "exception": false,
     "start_time": "2023-01-31T09:52:28.203266",
     "status": "completed"
    },
    "tags": []
   },
   "outputs": [
    {
     "data": {
      "text/plain": [
       "0.939988895058301"
      ]
     },
     "execution_count": 65,
     "metadata": {},
     "output_type": "execute_result"
    }
   ],
   "source": [
    "recall_score(train_labels, grad_pred)"
   ]
  },
  {
   "cell_type": "code",
   "execution_count": 66,
   "id": "9b6e2105",
   "metadata": {
    "execution": {
     "iopub.execute_input": "2023-01-31T09:52:28.358896Z",
     "iopub.status.busy": "2023-01-31T09:52:28.358485Z",
     "iopub.status.idle": "2023-01-31T09:52:28.415137Z",
     "shell.execute_reply": "2023-01-31T09:52:28.413662Z"
    },
    "papermill": {
     "duration": 0.09274,
     "end_time": "2023-01-31T09:52:28.418223",
     "exception": false,
     "start_time": "2023-01-31T09:52:28.325483",
     "status": "completed"
    },
    "tags": []
   },
   "outputs": [
    {
     "data": {
      "text/plain": [
       "0.9528987954519869"
      ]
     },
     "execution_count": 66,
     "metadata": {},
     "output_type": "execute_result"
    }
   ],
   "source": [
    "f1_score(train_labels, grad_pred)"
   ]
  },
  {
   "cell_type": "code",
   "execution_count": 67,
   "id": "42d78225",
   "metadata": {
    "execution": {
     "iopub.execute_input": "2023-01-31T09:52:28.483263Z",
     "iopub.status.busy": "2023-01-31T09:52:28.482857Z",
     "iopub.status.idle": "2023-01-31T09:52:28.492189Z",
     "shell.execute_reply": "2023-01-31T09:52:28.490875Z"
    },
    "papermill": {
     "duration": 0.04438,
     "end_time": "2023-01-31T09:52:28.494529",
     "exception": false,
     "start_time": "2023-01-31T09:52:28.450149",
     "status": "completed"
    },
    "tags": []
   },
   "outputs": [
    {
     "data": {
      "text/plain": [
       "0            0\n",
       "1            1\n",
       "2            2\n",
       "3            3\n",
       "4            4\n",
       "         ...  \n",
       "25971    25971\n",
       "25972    25972\n",
       "25973    25973\n",
       "25974    25974\n",
       "25975    25975\n",
       "Name: Unnamed: 0, Length: 25976, dtype: int64"
      ]
     },
     "execution_count": 67,
     "metadata": {},
     "output_type": "execute_result"
    }
   ],
   "source": [
    "test_1.pop(test_1.columns[0])"
   ]
  },
  {
   "cell_type": "code",
   "execution_count": 68,
   "id": "77f7c647",
   "metadata": {
    "execution": {
     "iopub.execute_input": "2023-01-31T09:52:28.560494Z",
     "iopub.status.busy": "2023-01-31T09:52:28.560026Z",
     "iopub.status.idle": "2023-01-31T09:52:28.569585Z",
     "shell.execute_reply": "2023-01-31T09:52:28.568283Z"
    },
    "papermill": {
     "duration": 0.045205,
     "end_time": "2023-01-31T09:52:28.571972",
     "exception": false,
     "start_time": "2023-01-31T09:52:28.526767",
     "status": "completed"
    },
    "tags": []
   },
   "outputs": [
    {
     "data": {
      "text/plain": [
       "0        19556\n",
       "1        90035\n",
       "2        12360\n",
       "3        77959\n",
       "4        36875\n",
       "         ...  \n",
       "25971    78463\n",
       "25972    71167\n",
       "25973    37675\n",
       "25974    90086\n",
       "25975    34799\n",
       "Name: id, Length: 25976, dtype: int64"
      ]
     },
     "execution_count": 68,
     "metadata": {},
     "output_type": "execute_result"
    }
   ],
   "source": [
    "test_1.pop(test_1.columns[0])"
   ]
  },
  {
   "cell_type": "code",
   "execution_count": 69,
   "id": "ac5e544c",
   "metadata": {
    "execution": {
     "iopub.execute_input": "2023-01-31T09:52:28.637072Z",
     "iopub.status.busy": "2023-01-31T09:52:28.635984Z",
     "iopub.status.idle": "2023-01-31T09:52:28.658670Z",
     "shell.execute_reply": "2023-01-31T09:52:28.657161Z"
    },
    "papermill": {
     "duration": 0.058385,
     "end_time": "2023-01-31T09:52:28.661520",
     "exception": false,
     "start_time": "2023-01-31T09:52:28.603135",
     "status": "completed"
    },
    "tags": []
   },
   "outputs": [],
   "source": [
    "X = test_1.copy()\n",
    "y = X.pop(\"satisfaction\")\n",
    "\n",
    "X[\"In Flight\"] = (X[\"Inflight wifi service\"] + X[\"Inflight entertainment\"] + X[\"Seat comfort\"] + X[\"Leg room service\"] + X[\"Inflight service\"] +\n",
    "                 X[\"Cleanliness\"] + X[\"Food and drink\"]) / 7\n",
    "X[\"Before Boarding\"] = (X[\"Online boarding\"] + X[\"On-board service\"] + X[\"Ease of Online booking\"] + X[\"Baggage handling\"] + X[\"Checkin service\"] +\n",
    "                       X[\"Gate location\"]) / 6\n",
    "X[\"Arrival Delay in Minutes\"].fillna(0, inplace=True)"
   ]
  },
  {
   "cell_type": "code",
   "execution_count": 70,
   "id": "b782d22f",
   "metadata": {
    "execution": {
     "iopub.execute_input": "2023-01-31T09:52:28.728105Z",
     "iopub.status.busy": "2023-01-31T09:52:28.727689Z",
     "iopub.status.idle": "2023-01-31T09:52:28.774459Z",
     "shell.execute_reply": "2023-01-31T09:52:28.773306Z"
    },
    "papermill": {
     "duration": 0.084112,
     "end_time": "2023-01-31T09:52:28.777306",
     "exception": false,
     "start_time": "2023-01-31T09:52:28.693194",
     "status": "completed"
    },
    "tags": []
   },
   "outputs": [],
   "source": [
    "test_one_hot_feats = one_hot.fit_transform(X[one_hot_feats])\n",
    "\n",
    "test_ordinal_feats = ordinal.fit_transform(X[ordinal_feats])\n",
    "\n",
    "test_normalize_feats = normalize.fit_transform(X[normalize_feats])"
   ]
  },
  {
   "cell_type": "code",
   "execution_count": 71,
   "id": "60c5f20d",
   "metadata": {
    "execution": {
     "iopub.execute_input": "2023-01-31T09:52:28.842153Z",
     "iopub.status.busy": "2023-01-31T09:52:28.841738Z",
     "iopub.status.idle": "2023-01-31T09:52:28.848540Z",
     "shell.execute_reply": "2023-01-31T09:52:28.847497Z"
    },
    "papermill": {
     "duration": 0.042405,
     "end_time": "2023-01-31T09:52:28.851038",
     "exception": false,
     "start_time": "2023-01-31T09:52:28.808633",
     "status": "completed"
    },
    "tags": []
   },
   "outputs": [],
   "source": [
    "test_data = np.concatenate((test_one_hot_feats, test_ordinal_feats, test_normalize_feats), axis=1)"
   ]
  },
  {
   "cell_type": "code",
   "execution_count": 72,
   "id": "243a0126",
   "metadata": {
    "execution": {
     "iopub.execute_input": "2023-01-31T09:52:28.917587Z",
     "iopub.status.busy": "2023-01-31T09:52:28.917164Z",
     "iopub.status.idle": "2023-01-31T09:52:28.924372Z",
     "shell.execute_reply": "2023-01-31T09:52:28.923076Z"
    },
    "papermill": {
     "duration": 0.042534,
     "end_time": "2023-01-31T09:52:28.926897",
     "exception": false,
     "start_time": "2023-01-31T09:52:28.884363",
     "status": "completed"
    },
    "tags": []
   },
   "outputs": [
    {
     "data": {
      "text/plain": [
       "(25976, 23)"
      ]
     },
     "execution_count": 72,
     "metadata": {},
     "output_type": "execute_result"
    }
   ],
   "source": [
    "test_data.shape"
   ]
  },
  {
   "cell_type": "code",
   "execution_count": 73,
   "id": "4e16fa55",
   "metadata": {
    "execution": {
     "iopub.execute_input": "2023-01-31T09:52:28.996334Z",
     "iopub.status.busy": "2023-01-31T09:52:28.995938Z",
     "iopub.status.idle": "2023-01-31T09:52:29.007551Z",
     "shell.execute_reply": "2023-01-31T09:52:29.006259Z"
    },
    "papermill": {
     "duration": 0.046974,
     "end_time": "2023-01-31T09:52:29.009931",
     "exception": false,
     "start_time": "2023-01-31T09:52:28.962957",
     "status": "completed"
    },
    "tags": []
   },
   "outputs": [],
   "source": [
    "test_labels = label.fit_transform(y)"
   ]
  },
  {
   "cell_type": "code",
   "execution_count": 74,
   "id": "aee5992f",
   "metadata": {
    "execution": {
     "iopub.execute_input": "2023-01-31T09:52:29.075439Z",
     "iopub.status.busy": "2023-01-31T09:52:29.075020Z",
     "iopub.status.idle": "2023-01-31T09:52:29.223628Z",
     "shell.execute_reply": "2023-01-31T09:52:29.222416Z"
    },
    "papermill": {
     "duration": 0.184772,
     "end_time": "2023-01-31T09:52:29.226159",
     "exception": false,
     "start_time": "2023-01-31T09:52:29.041387",
     "status": "completed"
    },
    "tags": []
   },
   "outputs": [
    {
     "data": {
      "text/plain": [
       "0.9295503541730828"
      ]
     },
     "execution_count": 74,
     "metadata": {},
     "output_type": "execute_result"
    }
   ],
   "source": [
    "grad_pred_test = grad.predict(test_data)\n",
    "accuracy_score(test_labels, grad_pred_test)"
   ]
  },
  {
   "cell_type": "code",
   "execution_count": 75,
   "id": "82b4285b",
   "metadata": {
    "execution": {
     "iopub.execute_input": "2023-01-31T09:52:29.291353Z",
     "iopub.status.busy": "2023-01-31T09:52:29.290947Z",
     "iopub.status.idle": "2023-01-31T09:52:29.302757Z",
     "shell.execute_reply": "2023-01-31T09:52:29.301851Z"
    },
    "papermill": {
     "duration": 0.047273,
     "end_time": "2023-01-31T09:52:29.304987",
     "exception": false,
     "start_time": "2023-01-31T09:52:29.257714",
     "status": "completed"
    },
    "tags": []
   },
   "outputs": [
    {
     "data": {
      "text/plain": [
       "array([[13339,  1234],\n",
       "       [  596, 10807]])"
      ]
     },
     "execution_count": 75,
     "metadata": {},
     "output_type": "execute_result"
    }
   ],
   "source": [
    "confusion_matrix(test_labels, grad_pred_test)"
   ]
  },
  {
   "cell_type": "code",
   "execution_count": 76,
   "id": "e54fa3af",
   "metadata": {
    "execution": {
     "iopub.execute_input": "2023-01-31T09:52:29.370930Z",
     "iopub.status.busy": "2023-01-31T09:52:29.370498Z",
     "iopub.status.idle": "2023-01-31T09:52:29.391072Z",
     "shell.execute_reply": "2023-01-31T09:52:29.389910Z"
    },
    "papermill": {
     "duration": 0.056815,
     "end_time": "2023-01-31T09:52:29.393518",
     "exception": false,
     "start_time": "2023-01-31T09:52:29.336703",
     "status": "completed"
    },
    "tags": []
   },
   "outputs": [
    {
     "data": {
      "text/plain": [
       "0.9477330527054284"
      ]
     },
     "execution_count": 76,
     "metadata": {},
     "output_type": "execute_result"
    }
   ],
   "source": [
    "recall_score(test_labels, grad_pred_test)"
   ]
  },
  {
   "cell_type": "code",
   "execution_count": 77,
   "id": "e12f1bd4",
   "metadata": {
    "execution": {
     "iopub.execute_input": "2023-01-31T09:52:29.459273Z",
     "iopub.status.busy": "2023-01-31T09:52:29.458580Z",
     "iopub.status.idle": "2023-01-31T09:52:29.478828Z",
     "shell.execute_reply": "2023-01-31T09:52:29.477929Z"
    },
    "papermill": {
     "duration": 0.056161,
     "end_time": "2023-01-31T09:52:29.481153",
     "exception": false,
     "start_time": "2023-01-31T09:52:29.424992",
     "status": "completed"
    },
    "tags": []
   },
   "outputs": [
    {
     "data": {
      "text/plain": [
       "0.9219416481829039"
      ]
     },
     "execution_count": 77,
     "metadata": {},
     "output_type": "execute_result"
    }
   ],
   "source": [
    "f1_score(test_labels, grad_pred_test)"
   ]
  },
  {
   "cell_type": "code",
   "execution_count": null,
   "id": "da818fbc",
   "metadata": {
    "papermill": {
     "duration": 0.03148,
     "end_time": "2023-01-31T09:52:29.547731",
     "exception": false,
     "start_time": "2023-01-31T09:52:29.516251",
     "status": "completed"
    },
    "tags": []
   },
   "outputs": [],
   "source": []
  }
 ],
 "metadata": {
  "kernelspec": {
   "display_name": "Python 3",
   "language": "python",
   "name": "python3"
  },
  "language_info": {
   "codemirror_mode": {
    "name": "ipython",
    "version": 3
   },
   "file_extension": ".py",
   "mimetype": "text/x-python",
   "name": "python",
   "nbconvert_exporter": "python",
   "pygments_lexer": "ipython3",
   "version": "3.7.12"
  },
  "papermill": {
   "default_parameters": {},
   "duration": 191.645085,
   "end_time": "2023-01-31T09:52:30.503359",
   "environment_variables": {},
   "exception": null,
   "input_path": "__notebook__.ipynb",
   "output_path": "__notebook__.ipynb",
   "parameters": {},
   "start_time": "2023-01-31T09:49:18.858274",
   "version": "2.3.4"
  }
 },
 "nbformat": 4,
 "nbformat_minor": 5
}
